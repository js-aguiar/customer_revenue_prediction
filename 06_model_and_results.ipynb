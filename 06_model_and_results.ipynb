{
 "cells": [
  {
   "cell_type": "markdown",
   "metadata": {},
   "source": [
    "# Machine learning model\n",
    "\n",
    "In this notebook we will train, tune, test and deploy a machine learning model for lifetime revenue forecasting using SageMaker.\n",
    "\n",
    "The general steps are:\n",
    "\n",
    "1. Prepare the data\n",
    "2. Initial model\n",
    "3. Hyperparameter tuning\n",
    "4. Retraining the model\n",
    "5. Batch inference\n",
    "6. Performance evaluation\n",
    "7. Model deployment"
   ]
  },
  {
   "cell_type": "code",
   "execution_count": 28,
   "metadata": {},
   "outputs": [],
   "source": [
    "import io\n",
    "import os\n",
    "import gc\n",
    "from datetime import datetime\n",
    "import json\n",
    "from urllib.parse import urlparse\n",
    "\n",
    "import numpy as np\n",
    "import pandas as pd\n",
    "import matplotlib.pyplot as plt\n",
    "import seaborn as sns\n",
    "from sklearn.model_selection import train_test_split\n",
    "sns.set()\n",
    "pd.set_option(\"max_columns\", 99)\n",
    "\n",
    "import awswrangler as wr\n",
    "from sagemaker.xgboost.estimator import XGBoost\n",
    "import sagemaker\n",
    "import boto3\n",
    "\n",
    "def read_parquet_s3(bucket, filepath):\n",
    "    buffer = io.BytesIO()\n",
    "    s3 = boto3.resource('s3')\n",
    "    obj = s3.Object(bucket, filepath)\n",
    "    obj.download_fileobj(buffer)\n",
    "    return pd.read_parquet(buffer)"
   ]
  },
  {
   "cell_type": "code",
   "execution_count": 18,
   "metadata": {},
   "outputs": [],
   "source": [
    "#!python3 -m pip install awswrangler"
   ]
  },
  {
   "cell_type": "markdown",
   "metadata": {},
   "source": [
    "## 1. Preparing the data\n",
    "\n",
    "In order to train our model, we need to provide data in a specific format in S3."
   ]
  },
  {
   "cell_type": "code",
   "execution_count": 37,
   "metadata": {},
   "outputs": [
    {
     "name": "stdout",
     "output_type": "stream",
     "text": [
      "(288081, 34)\n",
      "(305007, 34)\n"
     ]
    },
    {
     "data": {
      "text/html": [
       "<div>\n",
       "<style scoped>\n",
       "    .dataframe tbody tr th:only-of-type {\n",
       "        vertical-align: middle;\n",
       "    }\n",
       "\n",
       "    .dataframe tbody tr th {\n",
       "        vertical-align: top;\n",
       "    }\n",
       "\n",
       "    .dataframe thead th {\n",
       "        text-align: right;\n",
       "    }\n",
       "</style>\n",
       "<table border=\"1\" class=\"dataframe\">\n",
       "  <thead>\n",
       "    <tr style=\"text-align: right;\">\n",
       "      <th></th>\n",
       "      <th>id</th>\n",
       "      <th>num_unique_date</th>\n",
       "      <th>max_transaction_amount</th>\n",
       "      <th>sum_amount</th>\n",
       "      <th>avg_transaction_amount</th>\n",
       "      <th>days_since_last_transaction</th>\n",
       "      <th>days_since_first_transaction</th>\n",
       "      <th>avg_daily_amount</th>\n",
       "      <th>unique_dates_to_days</th>\n",
       "      <th>unique_dates_180d</th>\n",
       "      <th>transactions_count_180d</th>\n",
       "      <th>purchase_amount_sum_180d</th>\n",
       "      <th>avg_transaction_amount_180d</th>\n",
       "      <th>purchasequantity_sum_180d</th>\n",
       "      <th>time_weighted_amount_180d</th>\n",
       "      <th>unique_dates_90d</th>\n",
       "      <th>transactions_count_90d</th>\n",
       "      <th>purchase_amount_sum_90d</th>\n",
       "      <th>avg_transaction_amount_90d</th>\n",
       "      <th>purchasequantity_sum_90d</th>\n",
       "      <th>time_weighted_amount_90d</th>\n",
       "      <th>unique_dates_60d</th>\n",
       "      <th>transactions_count_60d</th>\n",
       "      <th>purchase_amount_sum_60d</th>\n",
       "      <th>avg_transaction_amount_60d</th>\n",
       "      <th>purchasequantity_sum_60d</th>\n",
       "      <th>time_weighted_amount_60d</th>\n",
       "      <th>unique_dates_30d</th>\n",
       "      <th>transactions_count_30d</th>\n",
       "      <th>purchase_amount_sum_30d</th>\n",
       "      <th>avg_transaction_amount_30d</th>\n",
       "      <th>purchasequantity_sum_30d</th>\n",
       "      <th>time_weighted_amount_30d</th>\n",
       "      <th>purchaseamount_90d</th>\n",
       "    </tr>\n",
       "  </thead>\n",
       "  <tbody>\n",
       "    <tr>\n",
       "      <th>0</th>\n",
       "      <td>12262064</td>\n",
       "      <td>120</td>\n",
       "      <td>65.959999</td>\n",
       "      <td>2295.729980</td>\n",
       "      <td>4.114212</td>\n",
       "      <td>1</td>\n",
       "      <td>213</td>\n",
       "      <td>10.778075</td>\n",
       "      <td>0.563380</td>\n",
       "      <td>109.0</td>\n",
       "      <td>524.0</td>\n",
       "      <td>2132.280029</td>\n",
       "      <td>4.069237</td>\n",
       "      <td>609.0</td>\n",
       "      <td>538.865601</td>\n",
       "      <td>54.0</td>\n",
       "      <td>267.0</td>\n",
       "      <td>1055.380005</td>\n",
       "      <td>3.952734</td>\n",
       "      <td>290.0</td>\n",
       "      <td>319.114532</td>\n",
       "      <td>37.0</td>\n",
       "      <td>185.0</td>\n",
       "      <td>749.809998</td>\n",
       "      <td>4.053027</td>\n",
       "      <td>201.0</td>\n",
       "      <td>249.026154</td>\n",
       "      <td>19.0</td>\n",
       "      <td>93.0</td>\n",
       "      <td>337.389984</td>\n",
       "      <td>3.627849</td>\n",
       "      <td>102.0</td>\n",
       "      <td>140.975647</td>\n",
       "      <td>838.989990</td>\n",
       "    </tr>\n",
       "    <tr>\n",
       "      <th>1</th>\n",
       "      <td>12277270</td>\n",
       "      <td>93</td>\n",
       "      <td>24.980000</td>\n",
       "      <td>3601.310059</td>\n",
       "      <td>5.789887</td>\n",
       "      <td>2</td>\n",
       "      <td>210</td>\n",
       "      <td>17.149096</td>\n",
       "      <td>0.442857</td>\n",
       "      <td>81.0</td>\n",
       "      <td>539.0</td>\n",
       "      <td>3129.820068</td>\n",
       "      <td>5.806716</td>\n",
       "      <td>623.0</td>\n",
       "      <td>840.181580</td>\n",
       "      <td>38.0</td>\n",
       "      <td>262.0</td>\n",
       "      <td>1507.849976</td>\n",
       "      <td>5.755153</td>\n",
       "      <td>310.0</td>\n",
       "      <td>509.219116</td>\n",
       "      <td>24.0</td>\n",
       "      <td>188.0</td>\n",
       "      <td>1091.979980</td>\n",
       "      <td>5.808404</td>\n",
       "      <td>226.0</td>\n",
       "      <td>413.054291</td>\n",
       "      <td>12.0</td>\n",
       "      <td>116.0</td>\n",
       "      <td>660.409973</td>\n",
       "      <td>5.693190</td>\n",
       "      <td>144.0</td>\n",
       "      <td>299.235992</td>\n",
       "      <td>1505.689941</td>\n",
       "    </tr>\n",
       "    <tr>\n",
       "      <th>2</th>\n",
       "      <td>12332190</td>\n",
       "      <td>49</td>\n",
       "      <td>164.899994</td>\n",
       "      <td>1416.559937</td>\n",
       "      <td>5.169927</td>\n",
       "      <td>0</td>\n",
       "      <td>210</td>\n",
       "      <td>6.745523</td>\n",
       "      <td>0.233333</td>\n",
       "      <td>45.0</td>\n",
       "      <td>259.0</td>\n",
       "      <td>1348.000000</td>\n",
       "      <td>5.204633</td>\n",
       "      <td>328.0</td>\n",
       "      <td>347.427277</td>\n",
       "      <td>27.0</td>\n",
       "      <td>153.0</td>\n",
       "      <td>878.700012</td>\n",
       "      <td>5.743137</td>\n",
       "      <td>199.0</td>\n",
       "      <td>250.572433</td>\n",
       "      <td>15.0</td>\n",
       "      <td>107.0</td>\n",
       "      <td>704.510010</td>\n",
       "      <td>6.584206</td>\n",
       "      <td>141.0</td>\n",
       "      <td>210.490936</td>\n",
       "      <td>6.0</td>\n",
       "      <td>15.0</td>\n",
       "      <td>67.959999</td>\n",
       "      <td>4.530667</td>\n",
       "      <td>20.0</td>\n",
       "      <td>42.900917</td>\n",
       "      <td>1084.780029</td>\n",
       "    </tr>\n",
       "    <tr>\n",
       "      <th>3</th>\n",
       "      <td>12524696</td>\n",
       "      <td>70</td>\n",
       "      <td>21.990000</td>\n",
       "      <td>1581.670044</td>\n",
       "      <td>3.886167</td>\n",
       "      <td>3</td>\n",
       "      <td>213</td>\n",
       "      <td>7.425681</td>\n",
       "      <td>0.328638</td>\n",
       "      <td>61.0</td>\n",
       "      <td>368.0</td>\n",
       "      <td>1440.270020</td>\n",
       "      <td>3.913777</td>\n",
       "      <td>463.0</td>\n",
       "      <td>347.924866</td>\n",
       "      <td>27.0</td>\n",
       "      <td>170.0</td>\n",
       "      <td>689.890015</td>\n",
       "      <td>4.058177</td>\n",
       "      <td>214.0</td>\n",
       "      <td>195.126587</td>\n",
       "      <td>16.0</td>\n",
       "      <td>103.0</td>\n",
       "      <td>396.540009</td>\n",
       "      <td>3.849903</td>\n",
       "      <td>137.0</td>\n",
       "      <td>127.830322</td>\n",
       "      <td>8.0</td>\n",
       "      <td>57.0</td>\n",
       "      <td>242.279999</td>\n",
       "      <td>4.250526</td>\n",
       "      <td>74.0</td>\n",
       "      <td>88.039108</td>\n",
       "      <td>871.130005</td>\n",
       "    </tr>\n",
       "    <tr>\n",
       "      <th>4</th>\n",
       "      <td>12682470</td>\n",
       "      <td>73</td>\n",
       "      <td>36.990002</td>\n",
       "      <td>1578.010010</td>\n",
       "      <td>4.347135</td>\n",
       "      <td>3</td>\n",
       "      <td>213</td>\n",
       "      <td>7.408498</td>\n",
       "      <td>0.342723</td>\n",
       "      <td>63.0</td>\n",
       "      <td>278.0</td>\n",
       "      <td>1268.130005</td>\n",
       "      <td>4.561619</td>\n",
       "      <td>325.0</td>\n",
       "      <td>308.362732</td>\n",
       "      <td>30.0</td>\n",
       "      <td>112.0</td>\n",
       "      <td>546.119995</td>\n",
       "      <td>4.876071</td>\n",
       "      <td>134.0</td>\n",
       "      <td>161.810654</td>\n",
       "      <td>22.0</td>\n",
       "      <td>61.0</td>\n",
       "      <td>304.299988</td>\n",
       "      <td>4.988524</td>\n",
       "      <td>70.0</td>\n",
       "      <td>106.956429</td>\n",
       "      <td>13.0</td>\n",
       "      <td>41.0</td>\n",
       "      <td>196.849991</td>\n",
       "      <td>4.801219</td>\n",
       "      <td>48.0</td>\n",
       "      <td>78.548553</td>\n",
       "      <td>1113.880005</td>\n",
       "    </tr>\n",
       "  </tbody>\n",
       "</table>\n",
       "</div>"
      ],
      "text/plain": [
       "         id  num_unique_date  max_transaction_amount   sum_amount  \\\n",
       "0  12262064              120               65.959999  2295.729980   \n",
       "1  12277270               93               24.980000  3601.310059   \n",
       "2  12332190               49              164.899994  1416.559937   \n",
       "3  12524696               70               21.990000  1581.670044   \n",
       "4  12682470               73               36.990002  1578.010010   \n",
       "\n",
       "   avg_transaction_amount  days_since_last_transaction  \\\n",
       "0                4.114212                            1   \n",
       "1                5.789887                            2   \n",
       "2                5.169927                            0   \n",
       "3                3.886167                            3   \n",
       "4                4.347135                            3   \n",
       "\n",
       "   days_since_first_transaction  avg_daily_amount  unique_dates_to_days  \\\n",
       "0                           213         10.778075              0.563380   \n",
       "1                           210         17.149096              0.442857   \n",
       "2                           210          6.745523              0.233333   \n",
       "3                           213          7.425681              0.328638   \n",
       "4                           213          7.408498              0.342723   \n",
       "\n",
       "   unique_dates_180d  transactions_count_180d  purchase_amount_sum_180d  \\\n",
       "0              109.0                    524.0               2132.280029   \n",
       "1               81.0                    539.0               3129.820068   \n",
       "2               45.0                    259.0               1348.000000   \n",
       "3               61.0                    368.0               1440.270020   \n",
       "4               63.0                    278.0               1268.130005   \n",
       "\n",
       "   avg_transaction_amount_180d  purchasequantity_sum_180d  \\\n",
       "0                     4.069237                      609.0   \n",
       "1                     5.806716                      623.0   \n",
       "2                     5.204633                      328.0   \n",
       "3                     3.913777                      463.0   \n",
       "4                     4.561619                      325.0   \n",
       "\n",
       "   time_weighted_amount_180d  unique_dates_90d  transactions_count_90d  \\\n",
       "0                 538.865601              54.0                   267.0   \n",
       "1                 840.181580              38.0                   262.0   \n",
       "2                 347.427277              27.0                   153.0   \n",
       "3                 347.924866              27.0                   170.0   \n",
       "4                 308.362732              30.0                   112.0   \n",
       "\n",
       "   purchase_amount_sum_90d  avg_transaction_amount_90d  \\\n",
       "0              1055.380005                    3.952734   \n",
       "1              1507.849976                    5.755153   \n",
       "2               878.700012                    5.743137   \n",
       "3               689.890015                    4.058177   \n",
       "4               546.119995                    4.876071   \n",
       "\n",
       "   purchasequantity_sum_90d  time_weighted_amount_90d  unique_dates_60d  \\\n",
       "0                     290.0                319.114532              37.0   \n",
       "1                     310.0                509.219116              24.0   \n",
       "2                     199.0                250.572433              15.0   \n",
       "3                     214.0                195.126587              16.0   \n",
       "4                     134.0                161.810654              22.0   \n",
       "\n",
       "   transactions_count_60d  purchase_amount_sum_60d  \\\n",
       "0                   185.0               749.809998   \n",
       "1                   188.0              1091.979980   \n",
       "2                   107.0               704.510010   \n",
       "3                   103.0               396.540009   \n",
       "4                    61.0               304.299988   \n",
       "\n",
       "   avg_transaction_amount_60d  purchasequantity_sum_60d  \\\n",
       "0                    4.053027                     201.0   \n",
       "1                    5.808404                     226.0   \n",
       "2                    6.584206                     141.0   \n",
       "3                    3.849903                     137.0   \n",
       "4                    4.988524                      70.0   \n",
       "\n",
       "   time_weighted_amount_60d  unique_dates_30d  transactions_count_30d  \\\n",
       "0                249.026154              19.0                    93.0   \n",
       "1                413.054291              12.0                   116.0   \n",
       "2                210.490936               6.0                    15.0   \n",
       "3                127.830322               8.0                    57.0   \n",
       "4                106.956429              13.0                    41.0   \n",
       "\n",
       "   purchase_amount_sum_30d  avg_transaction_amount_30d  \\\n",
       "0               337.389984                    3.627849   \n",
       "1               660.409973                    5.693190   \n",
       "2                67.959999                    4.530667   \n",
       "3               242.279999                    4.250526   \n",
       "4               196.849991                    4.801219   \n",
       "\n",
       "   purchasequantity_sum_30d  time_weighted_amount_30d  purchaseamount_90d  \n",
       "0                     102.0                140.975647          838.989990  \n",
       "1                     144.0                299.235992         1505.689941  \n",
       "2                      20.0                 42.900917         1084.780029  \n",
       "3                      74.0                 88.039108          871.130005  \n",
       "4                      48.0                 78.548553         1113.880005  "
      ]
     },
     "execution_count": 37,
     "metadata": {},
     "output_type": "execute_result"
    }
   ],
   "source": [
    "### build training set\n",
    "train = read_parquet_s3(\"capstone-transaction-data\",\n",
    "                        \"processed_data/train_features.parquet\")\n",
    "train_target = read_parquet_s3(\"capstone-transaction-data\",\n",
    "                               \"preprocessed_data/train_target.parquet\")\n",
    "train = train.merge(train_target, on=\"id\", how=\"left\")\n",
    "train[\"purchaseamount_90d\"].fillna(0, inplace=True)\n",
    "\n",
    "# build test set\n",
    "test = read_parquet_s3(\"capstone-transaction-data\",\n",
    "                       \"processed_data/test_features.parquet\")\n",
    "test_target = read_parquet_s3(\"capstone-transaction-data\",\n",
    "                              \"preprocessed_data/test_target.parquet\")\n",
    "test = test.merge(test_target, on=\"id\", how=\"left\")\n",
    "test[\"purchaseamount_90d\"].fillna(0, inplace=True)\n",
    "\n",
    "print(train.shape)\n",
    "print(test.shape)\n",
    "train.head()"
   ]
  },
  {
   "cell_type": "code",
   "execution_count": 38,
   "metadata": {},
   "outputs": [
    {
     "data": {
      "text/plain": [
       "avg_daily_amount        126\n",
       "unique_dates_to_days    126\n",
       "dtype: int64"
      ]
     },
     "execution_count": 38,
     "metadata": {},
     "output_type": "execute_result"
    }
   ],
   "source": [
    "# fixing infinite and nans\n",
    "not_num = train.isin([np.inf, -np.inf]).sum()\n",
    "not_num[not_num > 0]"
   ]
  },
  {
   "cell_type": "code",
   "execution_count": 39,
   "metadata": {},
   "outputs": [],
   "source": [
    "# replace for a special value (-1)\n",
    "train.replace(np.inf, -1, inplace=True)\n",
    "test.replace(np.inf, -1, inplace=True)"
   ]
  },
  {
   "cell_type": "markdown",
   "metadata": {},
   "source": [
    "### Spliting in train, validation and test samples\n",
    "\n",
    "The validation set is a 10% random sample from the train set, while the test set is an out-of-time sample. The validation set will be used for hyperparameter tunning and feature selection, while the out-of-time sample (test) is used only for our final results. In this way we are preventing overfitting and selection bias."
   ]
  },
  {
   "cell_type": "code",
   "execution_count": 40,
   "metadata": {},
   "outputs": [
    {
     "name": "stdout",
     "output_type": "stream",
     "text": [
      "(259272, 34) (28809, 34) (305007, 34)\n"
     ]
    }
   ],
   "source": [
    "drop = [\"id\", \"sum_amount\", \"num_unique_date\", \"purchaseamount_90d\"]\n",
    "features = [f for f in train.columns if f not in drop]\n",
    "target = \"purchaseamount_90d\"\n",
    "\n",
    "train, valid = train_test_split(train, test_size=0.1, random_state=0)\n",
    "print(train.shape, valid.shape, test.shape)"
   ]
  },
  {
   "cell_type": "markdown",
   "metadata": {},
   "source": [
    "SageMaker's algorithms expects a csv file as input with the first column being the target variable and the remaining columns as features. This csv file must not have a header nor index."
   ]
  },
  {
   "cell_type": "code",
   "execution_count": 61,
   "metadata": {},
   "outputs": [],
   "source": [
    "session = sagemaker.Session()\n",
    "bucket = session.default_bucket()\n",
    "role = sagemaker.get_execution_role()\n",
    "train_path = \"s3://{}/{}/{}\".format(bucket, \"datasets\", \"train.csv\")\n",
    "valid_path = \"s3://{}/{}/{}\".format(bucket, \"datasets\", \"valid.csv\")\n",
    "test_path = \"s3://{}/{}/{}\".format(bucket, \"datasets\", \"test.csv\")"
   ]
  },
  {
   "cell_type": "code",
   "execution_count": 42,
   "metadata": {},
   "outputs": [
    {
     "data": {
      "text/plain": [
       "{'paths': ['s3://sagemaker-us-east-2-165065549497/datasets/test.csv'],\n",
       " 'partitions_values': {}}"
      ]
     },
     "execution_count": 42,
     "metadata": {},
     "output_type": "execute_result"
    }
   ],
   "source": [
    "cols = [target] + features\n",
    "wr.s3.to_csv(df=train[cols], path=train_path, header=False, index=False)\n",
    "wr.s3.to_csv(df=valid[cols], path=valid_path, header=False, index=False)\n",
    "wr.s3.to_csv(df=test[cols],  path=test_path,  header=False, index=False)"
   ]
  },
  {
   "cell_type": "markdown",
   "metadata": {},
   "source": [
    "## 2. Initial model\n",
    "\n",
    "As mentioned in the Baseline notebook, we will be using the Root Mean Squared Log Error (RMSLE) to evaluate our model. This metric has some properties that are aligned with our business problem as dicussed in the previous notebook. In order to do that, we need to provide a custom training script since this metric is not supported by the built-in version of SageMaker's XGBoost."
   ]
  },
  {
   "cell_type": "code",
   "execution_count": 44,
   "metadata": {},
   "outputs": [],
   "source": [
    "hyperparams = {\n",
    "    \"max_depth\": \"5\",\n",
    "    \"eta\": \"0.1\",\n",
    "    \"gamma\": \"6\",\n",
    "    \"min_child_weight\": \"6\",\n",
    "    \"subsample\": \"0.7\",\n",
    "    \"alpha\": \"0\",\n",
    "    \"num_round\": \"100\",\n",
    "    \"verbosity\": \"2\",\n",
    "    \"objective\": \"reg:squaredlogerror\",\n",
    "    \"eval_metric_1\": \"rmsle\",\n",
    "    \"eval_metric_2\": \"rmse\",\n",
    "}\n",
    "\n",
    "output_path = \"s3://{}/{}/output\".format(bucket, \"xgb_results\")\n",
    "\n",
    "# construct a xgb estimator from custom script\n",
    "xgb_estimator = XGBoost(\n",
    "    entry_point=\"xgb/xgb_train.py\",\n",
    "    framework_version=\"1.3-1\",\n",
    "    hyperparameters=hyperparams,\n",
    "    role=role,\n",
    "    instance_count=1,\n",
    "    instance_type=\"ml.m5.2xlarge\",\n",
    "    output_path=output_path,\n",
    ")\n",
    "\n",
    "# wrapper around the location of our train and validation data\n",
    "train_input = sagemaker.session.TrainingInput(train_path, content_type=\"csv\")\n",
    "valid_input = sagemaker.session.TrainingInput(valid_path, content_type=\"csv\")"
   ]
  },
  {
   "cell_type": "code",
   "execution_count": 31,
   "metadata": {},
   "outputs": [
    {
     "name": "stdout",
     "output_type": "stream",
     "text": [
      "\n",
      "2021-08-01 01:16:33 Starting - Starting the training job\n",
      "2021-08-01 01:16:35 Starting - Launching requested ML instances.........\n",
      "2021-08-01 01:17:24 Starting - Preparing the instances for training............\n",
      "2021-08-01 01:18:32 Downloading - Downloading input data..\n",
      "2021-08-01 01:18:49 Training - Downloading the training image....\n",
      "2021-08-01 01:19:10 Training - Training image download completed. Training in progress....\n",
      "2021-08-01 01:19:31 Uploading - Uploading generated training model.\n",
      "2021-08-01 01:19:40 Completed - Training job completed\n"
     ]
    }
   ],
   "source": [
    "xgb_estimator.fit({\"train\": train_input, \"validation\": valid_input}, logs=\"None\")"
   ]
  },
  {
   "cell_type": "markdown",
   "metadata": {},
   "source": [
    "## 3. Hyperparameter tuning\n",
    "\n",
    "Using the validation sample to score our model, we are going to perform hyperparameter optimization for the XGBoost algorithm with the built-in SageMaker's Tuner. To search for the best hyperparameters, SageMaker is using a Bayesian approach within this algorithm.\n",
    "\n",
    "Currently, this estimator does not support custom metrics for HPO due to an issue with the current container (as described [here](https://github.com/aws/sagemaker-xgboost-container/issues/121)). Therefore, we will perform the search using RMSE instead."
   ]
  },
  {
   "cell_type": "code",
   "execution_count": 35,
   "metadata": {},
   "outputs": [],
   "source": [
    "from sagemaker.tuner import IntegerParameter, ContinuousParameter, HyperparameterTuner\n",
    "\n",
    "hyperparams_range = {\n",
    "    'eta': ContinuousParameter(0.01, 0.1),\n",
    "    'gamma': IntegerParameter(0, 10),\n",
    "    'max_depth': IntegerParameter(3, 12),\n",
    "    'min_child_weight': IntegerParameter(1, 10),\n",
    "    'subsample': ContinuousParameter(0.5, 0.95),\n",
    "    'lambda': ContinuousParameter(0, 2),\n",
    "    'alpha': ContinuousParameter(0, 2),\n",
    "    'num_round': IntegerParameter(50, 1500),\n",
    "}\n",
    "\n",
    "xgb_hyperparameter_tuner = HyperparameterTuner(estimator = xgb_estimator,\n",
    "                                               objective_metric_name = 'validation:rmse',\n",
    "                                               objective_type = 'Minimize',\n",
    "                                               max_jobs = 100, # The total number of models to train\n",
    "                                               max_parallel_jobs = 3, # The number of models to train in parallel\n",
    "                                               #metric_definitions=metrics,\n",
    "                                               hyperparameter_ranges = hyperparams_range)"
   ]
  },
  {
   "cell_type": "code",
   "execution_count": null,
   "metadata": {},
   "outputs": [
    {
     "name": "stdout",
     "output_type": "stream",
     "text": [
      ".................................................................................................................................................................................................................................................................................................................................................................................................................................................................................................................................................................................................................................................................................................................................................................................................................................................................................................................................................................................................................................................................................................................................................................................................................."
     ]
    }
   ],
   "source": [
    "xgb_hyperparameter_tuner.fit({'train': train_input, 'validation': valid_input})\n",
    "xgb_hyperparameter_tuner.wait()"
   ]
  },
  {
   "cell_type": "code",
   "execution_count": 37,
   "metadata": {},
   "outputs": [
    {
     "data": {
      "text/plain": [
       "'sagemaker-xgboost-210801-0153-026-5af798c4'"
      ]
     },
     "execution_count": 37,
     "metadata": {},
     "output_type": "execute_result"
    }
   ],
   "source": [
    "#xgb_hyperparameter_tuner.best_training_job()\n",
    "#xgb_attached = sagemaker.estimator.Estimator.attach(xgb_hyperparameter_tuner.best_training_job())"
   ]
  },
  {
   "cell_type": "markdown",
   "metadata": {},
   "source": [
    "## 4. Retraining the model\n",
    "\n",
    "Now we fit the model with the best hyperparameters"
   ]
  },
  {
   "cell_type": "code",
   "execution_count": 45,
   "metadata": {},
   "outputs": [
    {
     "name": "stdout",
     "output_type": "stream",
     "text": [
      "\n",
      "2021-08-02 16:54:19 Starting - Starting the training job\n",
      "2021-08-02 16:54:21 Starting - Launching requested ML instances............\n",
      "2021-08-02 16:55:26 Starting - Preparing the instances for training................\n",
      "2021-08-02 16:56:51 Downloading - Downloading input data...\n",
      "2021-08-02 16:57:11 Training - Downloading the training image...\n",
      "2021-08-02 16:57:32 Training - Training image download completed. Training in progress.........................................\n",
      "2021-08-02 17:01:00 Uploading - Uploading generated training model.\n",
      "2021-08-02 17:01:09 Completed - Training job completed\n"
     ]
    }
   ],
   "source": [
    "hyperparams = {\n",
    "    \"max_depth\": \"6\",\n",
    "    \"eta\": \"0.03017362\",\n",
    "    \"gamma\": \"2\",\n",
    "    \"min_child_weight\": \"1\",\n",
    "    \"subsample\": \"1\",\n",
    "    \"alpha\": \"0.05045427\",\n",
    "    \"objective\": \"reg:squaredlogerror\",\n",
    "    \"num_round\": \"1500\",\n",
    "    \"verbosity\": \"2\",\n",
    "    \"objective\": \"reg:squaredlogerror\",\n",
    "    \"eval_metric_1\": \"rmsle\",\n",
    "    \"eval_metric_2\": \"rmse\",\n",
    "}\n",
    "\n",
    "output_path = \"s3://{}/{}/output\".format(bucket, \"xgb_results_02\")\n",
    "\n",
    "# construct a xgb estimator from custom script\n",
    "xgb_estimator = XGBoost(\n",
    "    entry_point=\"xgb/xgb_train.py\",\n",
    "    framework_version=\"1.3-1\",\n",
    "    hyperparameters=hyperparams,\n",
    "    role=role,\n",
    "    instance_count=1,\n",
    "    instance_type=\"ml.m5.xlarge\",\n",
    "    output_path=output_path,\n",
    ")\n",
    "xgb_estimator.fit({\"train\": train_input, \"validation\": valid_input}, logs=\"None\")"
   ]
  },
  {
   "cell_type": "markdown",
   "metadata": {},
   "source": [
    "## 5. Batch transform job\n",
    "\n",
    "Now that we have a trained model, we can make predictions for the three samples (train, validation and out-of-time) to evaluate our model. To do this we will make use of SageMaker's Batch Transform functionality. To start with, we need to build a transformer object from our fited model."
   ]
  },
  {
   "cell_type": "code",
   "execution_count": 66,
   "metadata": {},
   "outputs": [
    {
     "name": "stdout",
     "output_type": "stream",
     "text": [
      "\n",
      "2021-08-02 17:01:24 Starting - Preparing the instances for training\n",
      "2021-08-02 17:01:24 Downloading - Downloading input data\n",
      "2021-08-02 17:01:24 Training - Training image download completed. Training in progress.\n",
      "2021-08-02 17:01:24 Uploading - Uploading generated training model\n",
      "2021-08-02 17:01:24 Completed - Training job completed\n"
     ]
    }
   ],
   "source": [
    "xgb_estimator = sagemaker.estimator.Estimator.attach(\"sagemaker-xgboost-2021-08-02-16-54-19-126\")"
   ]
  },
  {
   "cell_type": "code",
   "execution_count": 78,
   "metadata": {},
   "outputs": [],
   "source": [
    "train_path_no_target = \"s3://{}/{}/{}\".format(bucket, \"datasets\", \"train_no_target.csv\")\n",
    "valid_path_no_target = \"s3://{}/{}/{}\".format(bucket, \"datasets\", \"valid_no_target.csv\")\n",
    "test_path_no_target = \"s3://{}/{}/{}\".format(bucket, \"datasets\", \"test_no_target.csv\")\n",
    "wr.s3.to_csv(df=train[features], path=train_path_no_target, header=False, index=False)\n",
    "wr.s3.to_csv(df=valid[features], path=valid_path_no_target, header=False, index=False)\n",
    "wr.s3.to_csv(df=test[features],  path=test_path_no_target,  header=False, index=False)"
   ]
  },
  {
   "cell_type": "code",
   "execution_count": 83,
   "metadata": {},
   "outputs": [],
   "source": [
    "output_path_pred = \"s3://{}/{}\".format(bucket, \"predictions\")\n",
    "xgb_transformer = xgb_estimator.transformer(1, \"ml.m5.large\", accept=\"text/csv\",\n",
    "                                            strategy=\"MultiRecord\", output_path=output_path_pred)"
   ]
  },
  {
   "cell_type": "code",
   "execution_count": 84,
   "metadata": {},
   "outputs": [
    {
     "name": "stdout",
     "output_type": "stream",
     "text": [
      ".....................................................!\n",
      "\u001b[34m[2021-08-02:20:08:02:INFO] No GPUs detected (normal if no gpus installed)\u001b[0m\n",
      "\u001b[34m[2021-08-02:20:08:02:INFO] No GPUs detected (normal if no gpus installed)\u001b[0m\n",
      "\u001b[34m[2021-08-02:20:08:02:INFO] nginx config: \u001b[0m\n",
      "\u001b[34mworker_processes auto;\u001b[0m\n",
      "\u001b[34mdaemon off;\u001b[0m\n",
      "\u001b[34mpid /tmp/nginx.pid;\u001b[0m\n",
      "\u001b[34merror_log  /dev/stderr;\n",
      "\u001b[0m\n",
      "\u001b[34mworker_rlimit_nofile 4096;\n",
      "\u001b[0m\n",
      "\u001b[34mevents {\n",
      "  worker_connections 2048;\u001b[0m\n",
      "\u001b[34m}\n",
      "\u001b[0m\n",
      "\u001b[35m[2021-08-02:20:08:02:INFO] No GPUs detected (normal if no gpus installed)\u001b[0m\n",
      "\u001b[35m[2021-08-02:20:08:02:INFO] No GPUs detected (normal if no gpus installed)\u001b[0m\n",
      "\u001b[35m[2021-08-02:20:08:02:INFO] nginx config: \u001b[0m\n",
      "\u001b[35mworker_processes auto;\u001b[0m\n",
      "\u001b[35mdaemon off;\u001b[0m\n",
      "\u001b[35mpid /tmp/nginx.pid;\u001b[0m\n",
      "\u001b[35merror_log  /dev/stderr;\n",
      "\u001b[0m\n",
      "\u001b[35mworker_rlimit_nofile 4096;\n",
      "\u001b[0m\n",
      "\u001b[35mevents {\n",
      "  worker_connections 2048;\u001b[0m\n",
      "\u001b[35m}\n",
      "\u001b[0m\n",
      "\u001b[34mhttp {\n",
      "  include /etc/nginx/mime.types;\n",
      "  default_type application/octet-stream;\n",
      "  access_log /dev/stdout combined;\n",
      "\n",
      "  upstream gunicorn {\n",
      "    server unix:/tmp/gunicorn.sock;\n",
      "  }\n",
      "\n",
      "  server {\n",
      "    listen 8080 deferred;\n",
      "    client_max_body_size 0;\n",
      "\n",
      "    keepalive_timeout 3;\n",
      "\n",
      "    location ~ ^/(ping|invocations|execution-parameters) {\n",
      "      proxy_set_header X-Forwarded-For $proxy_add_x_forwarded_for;\n",
      "      proxy_set_header Host $http_host;\n",
      "      proxy_redirect off;\n",
      "      proxy_read_timeout 60s;\n",
      "      proxy_pass http://gunicorn;\n",
      "    }\n",
      "\n",
      "    location / {\n",
      "      return 404 \"{}\";\n",
      "    }\n",
      "\n",
      "  }\u001b[0m\n",
      "\u001b[34m}\n",
      "\n",
      "\u001b[0m\n",
      "\u001b[34m[2021-08-02 20:08:02 +0000] [15] [INFO] Starting gunicorn 19.10.0\u001b[0m\n",
      "\u001b[34m[2021-08-02 20:08:02 +0000] [15] [INFO] Listening at: unix:/tmp/gunicorn.sock (15)\u001b[0m\n",
      "\u001b[34m[2021-08-02 20:08:02 +0000] [15] [INFO] Using worker: gevent\u001b[0m\n",
      "\u001b[34m[2021-08-02 20:08:02 +0000] [20] [INFO] Booting worker with pid: 20\u001b[0m\n",
      "\u001b[34m[2021-08-02 20:08:02 +0000] [21] [INFO] Booting worker with pid: 21\u001b[0m\n",
      "\u001b[35mhttp {\n",
      "  include /etc/nginx/mime.types;\n",
      "  default_type application/octet-stream;\n",
      "  access_log /dev/stdout combined;\n",
      "\n",
      "  upstream gunicorn {\n",
      "    server unix:/tmp/gunicorn.sock;\n",
      "  }\n",
      "\n",
      "  server {\n",
      "    listen 8080 deferred;\n",
      "    client_max_body_size 0;\n",
      "\n",
      "    keepalive_timeout 3;\n",
      "\n",
      "    location ~ ^/(ping|invocations|execution-parameters) {\n",
      "      proxy_set_header X-Forwarded-For $proxy_add_x_forwarded_for;\n",
      "      proxy_set_header Host $http_host;\n",
      "      proxy_redirect off;\n",
      "      proxy_read_timeout 60s;\n",
      "      proxy_pass http://gunicorn;\n",
      "    }\n",
      "\n",
      "    location / {\n",
      "      return 404 \"{}\";\n",
      "    }\n",
      "\n",
      "  }\u001b[0m\n",
      "\u001b[35m}\n",
      "\n",
      "\u001b[0m\n",
      "\u001b[35m[2021-08-02 20:08:02 +0000] [15] [INFO] Starting gunicorn 19.10.0\u001b[0m\n",
      "\u001b[35m[2021-08-02 20:08:02 +0000] [15] [INFO] Listening at: unix:/tmp/gunicorn.sock (15)\u001b[0m\n",
      "\u001b[35m[2021-08-02 20:08:02 +0000] [15] [INFO] Using worker: gevent\u001b[0m\n",
      "\u001b[35m[2021-08-02 20:08:02 +0000] [20] [INFO] Booting worker with pid: 20\u001b[0m\n",
      "\u001b[35m[2021-08-02 20:08:02 +0000] [21] [INFO] Booting worker with pid: 21\u001b[0m\n",
      "\u001b[34m[2021-08-02:20:08:03:INFO] No GPUs detected (normal if no gpus installed)\u001b[0m\n",
      "\u001b[34m[2021-08-02:20:08:03:INFO] Loading the model from /opt/ml/model/xgboost-model\u001b[0m\n",
      "\u001b[34m[2021-08-02:20:08:03:INFO] Model objective : reg:squaredlogerror\u001b[0m\n",
      "\u001b[34m[2021-08-02:20:08:03:INFO] No GPUs detected (normal if no gpus installed)\u001b[0m\n",
      "\u001b[34m[2021-08-02:20:08:03:INFO] Loading the model from /opt/ml/model/xgboost-model\u001b[0m\n",
      "\u001b[34m[2021-08-02:20:08:04:INFO] Model objective : reg:squaredlogerror\u001b[0m\n",
      "\u001b[35m[2021-08-02:20:08:03:INFO] No GPUs detected (normal if no gpus installed)\u001b[0m\n",
      "\u001b[35m[2021-08-02:20:08:03:INFO] Loading the model from /opt/ml/model/xgboost-model\u001b[0m\n",
      "\u001b[35m[2021-08-02:20:08:03:INFO] Model objective : reg:squaredlogerror\u001b[0m\n",
      "\u001b[35m[2021-08-02:20:08:03:INFO] No GPUs detected (normal if no gpus installed)\u001b[0m\n",
      "\u001b[35m[2021-08-02:20:08:03:INFO] Loading the model from /opt/ml/model/xgboost-model\u001b[0m\n",
      "\u001b[35m[2021-08-02:20:08:04:INFO] Model objective : reg:squaredlogerror\u001b[0m\n",
      "\u001b[34m[2021-08-02:20:08:07:INFO] No GPUs detected (normal if no gpus installed)\u001b[0m\n",
      "\u001b[34m169.254.255.130 - - [02/Aug/2021:20:08:07 +0000] \"GET /ping HTTP/1.1\" 200 0 \"-\" \"Go-http-client/1.1\"\u001b[0m\n",
      "\u001b[34m[2021-08-02:20:08:07:INFO] No GPUs detected (normal if no gpus installed)\u001b[0m\n",
      "\u001b[34m169.254.255.130 - - [02/Aug/2021:20:08:07 +0000] \"GET /execution-parameters HTTP/1.1\" 200 84 \"-\" \"Go-http-client/1.1\"\u001b[0m\n",
      "\u001b[35m[2021-08-02:20:08:07:INFO] No GPUs detected (normal if no gpus installed)\u001b[0m\n",
      "\u001b[35m169.254.255.130 - - [02/Aug/2021:20:08:07 +0000] \"GET /ping HTTP/1.1\" 200 0 \"-\" \"Go-http-client/1.1\"\u001b[0m\n",
      "\u001b[35m[2021-08-02:20:08:07:INFO] No GPUs detected (normal if no gpus installed)\u001b[0m\n",
      "\u001b[35m169.254.255.130 - - [02/Aug/2021:20:08:07 +0000] \"GET /execution-parameters HTTP/1.1\" 200 84 \"-\" \"Go-http-client/1.1\"\u001b[0m\n",
      "\u001b[34m[2021-08-02:20:08:10:INFO] Determined delimiter of CSV input is ','\u001b[0m\n",
      "\u001b[34m[2021-08-02:20:08:10:INFO] Determined delimiter of CSV input is ','\u001b[0m\n",
      "\u001b[35m[2021-08-02:20:08:10:INFO] Determined delimiter of CSV input is ','\u001b[0m\n",
      "\u001b[35m[2021-08-02:20:08:10:INFO] Determined delimiter of CSV input is ','\u001b[0m\n",
      "\u001b[34m169.254.255.130 - - [02/Aug/2021:20:08:11 +0000] \"POST /invocations HTTP/1.1\" 200 510192 \"-\" \"Go-http-client/1.1\"\u001b[0m\n",
      "\u001b[34m169.254.255.130 - - [02/Aug/2021:20:08:11 +0000] \"POST /invocations HTTP/1.1\" 200 510579 \"-\" \"Go-http-client/1.1\"\u001b[0m\n",
      "\u001b[34m[2021-08-02:20:08:12:INFO] Determined delimiter of CSV input is ','\u001b[0m\n",
      "\u001b[34m[2021-08-02:20:08:12:INFO] Determined delimiter of CSV input is ','\u001b[0m\n",
      "\u001b[35m169.254.255.130 - - [02/Aug/2021:20:08:11 +0000] \"POST /invocations HTTP/1.1\" 200 510192 \"-\" \"Go-http-client/1.1\"\u001b[0m\n",
      "\u001b[35m169.254.255.130 - - [02/Aug/2021:20:08:11 +0000] \"POST /invocations HTTP/1.1\" 200 510579 \"-\" \"Go-http-client/1.1\"\u001b[0m\n",
      "\u001b[35m[2021-08-02:20:08:12:INFO] Determined delimiter of CSV input is ','\u001b[0m\n",
      "\u001b[35m[2021-08-02:20:08:12:INFO] Determined delimiter of CSV input is ','\u001b[0m\n",
      "\u001b[32m2021-08-02T20:08:07.938:[sagemaker logs]: MaxConcurrentTransforms=2, MaxPayloadInMB=6, BatchStrategy=MULTI_RECORD\u001b[0m\n",
      "\u001b[34m169.254.255.130 - - [02/Aug/2021:20:08:13 +0000] \"POST /invocations HTTP/1.1\" 200 510579 \"-\" \"Go-http-client/1.1\"\u001b[0m\n",
      "\u001b[34m169.254.255.130 - - [02/Aug/2021:20:08:13 +0000] \"POST /invocations HTTP/1.1\" 200 510430 \"-\" \"Go-http-client/1.1\"\u001b[0m\n",
      "\u001b[34m[2021-08-02:20:08:13:INFO] Determined delimiter of CSV input is ','\u001b[0m\n",
      "\u001b[35m169.254.255.130 - - [02/Aug/2021:20:08:13 +0000] \"POST /invocations HTTP/1.1\" 200 510579 \"-\" \"Go-http-client/1.1\"\u001b[0m\n",
      "\u001b[35m169.254.255.130 - - [02/Aug/2021:20:08:13 +0000] \"POST /invocations HTTP/1.1\" 200 510430 \"-\" \"Go-http-client/1.1\"\u001b[0m\n",
      "\u001b[35m[2021-08-02:20:08:13:INFO] Determined delimiter of CSV input is ','\u001b[0m\n",
      "\u001b[34m[2021-08-02:20:08:13:INFO] Determined delimiter of CSV input is ','\u001b[0m\n",
      "\u001b[35m[2021-08-02:20:08:13:INFO] Determined delimiter of CSV input is ','\u001b[0m\n",
      "\u001b[34m169.254.255.130 - - [02/Aug/2021:20:08:15 +0000] \"POST /invocations HTTP/1.1\" 200 510260 \"-\" \"Go-http-client/1.1\"\u001b[0m\n",
      "\u001b[34m169.254.255.130 - - [02/Aug/2021:20:08:15 +0000] \"POST /invocations HTTP/1.1\" 200 510473 \"-\" \"Go-http-client/1.1\"\u001b[0m\n",
      "\u001b[34m[2021-08-02:20:08:15:INFO] Determined delimiter of CSV input is ','\u001b[0m\n",
      "\u001b[34m[2021-08-02:20:08:15:INFO] Determined delimiter of CSV input is ','\u001b[0m\n",
      "\u001b[35m169.254.255.130 - - [02/Aug/2021:20:08:15 +0000] \"POST /invocations HTTP/1.1\" 200 510260 \"-\" \"Go-http-client/1.1\"\u001b[0m\n",
      "\u001b[35m169.254.255.130 - - [02/Aug/2021:20:08:15 +0000] \"POST /invocations HTTP/1.1\" 200 510473 \"-\" \"Go-http-client/1.1\"\u001b[0m\n",
      "\u001b[35m[2021-08-02:20:08:15:INFO] Determined delimiter of CSV input is ','\u001b[0m\n",
      "\u001b[35m[2021-08-02:20:08:15:INFO] Determined delimiter of CSV input is ','\u001b[0m\n",
      "\u001b[34m169.254.255.130 - - [02/Aug/2021:20:08:17 +0000] \"POST /invocations HTTP/1.1\" 200 510493 \"-\" \"Go-http-client/1.1\"\u001b[0m\n",
      "\u001b[34m169.254.255.130 - - [02/Aug/2021:20:08:17 +0000] \"POST /invocations HTTP/1.1\" 200 510467 \"-\" \"Go-http-client/1.1\"\u001b[0m\n",
      "\u001b[34m[2021-08-02:20:08:17:INFO] Determined delimiter of CSV input is ','\u001b[0m\n",
      "\u001b[34m169.254.255.130 - - [02/Aug/2021:20:08:17 +0000] \"POST /invocations HTTP/1.1\" 200 11220 \"-\" \"Go-http-client/1.1\"\u001b[0m\n",
      "\u001b[34m[2021-08-02:20:08:17:INFO] Determined delimiter of CSV input is ','\u001b[0m\n",
      "\u001b[35m169.254.255.130 - - [02/Aug/2021:20:08:17 +0000] \"POST /invocations HTTP/1.1\" 200 510493 \"-\" \"Go-http-client/1.1\"\u001b[0m\n",
      "\u001b[35m169.254.255.130 - - [02/Aug/2021:20:08:17 +0000] \"POST /invocations HTTP/1.1\" 200 510467 \"-\" \"Go-http-client/1.1\"\u001b[0m\n",
      "\u001b[35m[2021-08-02:20:08:17:INFO] Determined delimiter of CSV input is ','\u001b[0m\n",
      "\u001b[35m169.254.255.130 - - [02/Aug/2021:20:08:17 +0000] \"POST /invocations HTTP/1.1\" 200 11220 \"-\" \"Go-http-client/1.1\"\u001b[0m\n",
      "\u001b[35m[2021-08-02:20:08:17:INFO] Determined delimiter of CSV input is ','\u001b[0m\n"
     ]
    }
   ],
   "source": [
    "# start a transform job\n",
    "xgb_transformer.transform(train_path_no_target, data_type=\"S3Prefix\",\n",
    "                          split_type=\"Line\", content_type=\"text/csv\", logs=False)\n",
    "xgb_transformer.wait()"
   ]
  },
  {
   "cell_type": "code",
   "execution_count": 85,
   "metadata": {},
   "outputs": [
    {
     "name": "stdout",
     "output_type": "stream",
     "text": [
      "....................................................!\n",
      "\u001b[34m[2021-08-02:20:27:19:INFO] No GPUs detected (normal if no gpus installed)\u001b[0m\n",
      "\u001b[34m[2021-08-02:20:27:19:INFO] No GPUs detected (normal if no gpus installed)\u001b[0m\n",
      "\u001b[34m[2021-08-02:20:27:19:INFO] nginx config: \u001b[0m\n",
      "\u001b[34mworker_processes auto;\u001b[0m\n",
      "\u001b[34mdaemon off;\u001b[0m\n",
      "\u001b[34mpid /tmp/nginx.pid;\u001b[0m\n",
      "\u001b[34merror_log  /dev/stderr;\n",
      "\u001b[0m\n",
      "\u001b[34mworker_rlimit_nofile 4096;\n",
      "\u001b[0m\n",
      "\u001b[34mevents {\n",
      "  worker_connections 2048;\u001b[0m\n",
      "\u001b[34m}\n",
      "\u001b[0m\n",
      "\u001b[34mhttp {\n",
      "  include /etc/nginx/mime.types;\n",
      "  default_type application/octet-stream;\n",
      "  access_log /dev/stdout combined;\n",
      "\n",
      "  upstream gunicorn {\n",
      "    server unix:/tmp/gunicorn.sock;\n",
      "  }\n",
      "\n",
      "  server {\n",
      "    listen 8080 deferred;\n",
      "    client_max_body_size 0;\n",
      "\n",
      "    keepalive_timeout 3;\n",
      "\n",
      "    location ~ ^/(ping|invocations|execution-parameters) {\n",
      "      proxy_set_header X-Forwarded-For $proxy_add_x_forwarded_for;\n",
      "      proxy_set_header Host $http_host;\n",
      "      proxy_redirect off;\n",
      "      proxy_read_timeout 60s;\n",
      "      proxy_pass http://gunicorn;\n",
      "    }\n",
      "\n",
      "    location / {\n",
      "      return 404 \"{}\";\n",
      "    }\n",
      "\n",
      "  }\u001b[0m\n",
      "\u001b[34m}\n",
      "\n",
      "\u001b[0m\n",
      "\u001b[34m[2021-08-02 20:27:20 +0000] [16] [INFO] Starting gunicorn 19.10.0\u001b[0m\n",
      "\u001b[34m[2021-08-02 20:27:20 +0000] [16] [INFO] Listening at: unix:/tmp/gunicorn.sock (16)\u001b[0m\n",
      "\u001b[34m[2021-08-02 20:27:20 +0000] [16] [INFO] Using worker: gevent\u001b[0m\n",
      "\u001b[34m[2021-08-02 20:27:20 +0000] [21] [INFO] Booting worker with pid: 21\u001b[0m\n",
      "\u001b[34m[2021-08-02 20:27:20 +0000] [22] [INFO] Booting worker with pid: 22\u001b[0m\n",
      "\u001b[34m[2021-08-02:20:27:21:INFO] No GPUs detected (normal if no gpus installed)\u001b[0m\n",
      "\u001b[34m[2021-08-02:20:27:21:INFO] Loading the model from /opt/ml/model/xgboost-model\u001b[0m\n",
      "\u001b[34m[2021-08-02:20:27:21:INFO] Model objective : reg:squaredlogerror\u001b[0m\n",
      "\u001b[34m[2021-08-02:20:27:21:INFO] No GPUs detected (normal if no gpus installed)\u001b[0m\n",
      "\u001b[34m[2021-08-02:20:27:21:INFO] Loading the model from /opt/ml/model/xgboost-model\u001b[0m\n",
      "\u001b[34m[2021-08-02:20:27:21:INFO] Model objective : reg:squaredlogerror\u001b[0m\n",
      "\u001b[34m[2021-08-02:20:27:25:INFO] No GPUs detected (normal if no gpus installed)\u001b[0m\n",
      "\u001b[34m169.254.255.130 - - [02/Aug/2021:20:27:25 +0000] \"GET /ping HTTP/1.1\" 200 0 \"-\" \"Go-http-client/1.1\"\u001b[0m\n",
      "\u001b[34m169.254.255.130 - - [02/Aug/2021:20:27:25 +0000] \"GET /execution-parameters HTTP/1.1\" 200 84 \"-\" \"Go-http-client/1.1\"\u001b[0m\n",
      "\u001b[34m[2021-08-02:20:27:26:INFO] No GPUs detected (normal if no gpus installed)\u001b[0m\n",
      "\u001b[34m[2021-08-02:20:27:26:INFO] Determined delimiter of CSV input is ','\u001b[0m\n",
      "\u001b[34m169.254.255.130 - - [02/Aug/2021:20:27:26 +0000] \"POST /invocations HTTP/1.1\" 200 882 \"-\" \"Go-http-client/1.1\"\u001b[0m\n",
      "\u001b[34m[2021-08-02:20:27:26:INFO] Determined delimiter of CSV input is ','\u001b[0m\n",
      "\u001b[34m169.254.255.130 - - [02/Aug/2021:20:27:27 +0000] \"POST /invocations HTTP/1.1\" 200 510801 \"-\" \"Go-http-client/1.1\"\u001b[0m\n"
     ]
    }
   ],
   "source": [
    "xgb_transformer.transform(valid_path_no_target, data_type=\"S3Prefix\",\n",
    "                          split_type=\"Line\", content_type=\"text/csv\", logs=False)\n",
    "xgb_transformer.wait()"
   ]
  },
  {
   "cell_type": "code",
   "execution_count": 86,
   "metadata": {},
   "outputs": [
    {
     "name": "stdout",
     "output_type": "stream",
     "text": [
      ".........................................................!\n",
      "\u001b[34m[2021-08-02:20:31:41:INFO] No GPUs detected (normal if no gpus installed)\u001b[0m\n",
      "\u001b[34m[2021-08-02:20:31:41:INFO] No GPUs detected (normal if no gpus installed)\u001b[0m\n",
      "\u001b[34m[2021-08-02:20:31:41:INFO] nginx config: \u001b[0m\n",
      "\u001b[34mworker_processes auto;\u001b[0m\n",
      "\u001b[34mdaemon off;\u001b[0m\n",
      "\u001b[34mpid /tmp/nginx.pid;\u001b[0m\n",
      "\u001b[34merror_log  /dev/stderr;\n",
      "\u001b[0m\n",
      "\u001b[34mworker_rlimit_nofile 4096;\n",
      "\u001b[0m\n",
      "\u001b[34mevents {\n",
      "  worker_connections 2048;\u001b[0m\n",
      "\u001b[34m}\n",
      "\u001b[0m\n",
      "\u001b[35m[2021-08-02:20:31:41:INFO] No GPUs detected (normal if no gpus installed)\u001b[0m\n",
      "\u001b[35m[2021-08-02:20:31:41:INFO] No GPUs detected (normal if no gpus installed)\u001b[0m\n",
      "\u001b[35m[2021-08-02:20:31:41:INFO] nginx config: \u001b[0m\n",
      "\u001b[35mworker_processes auto;\u001b[0m\n",
      "\u001b[35mdaemon off;\u001b[0m\n",
      "\u001b[35mpid /tmp/nginx.pid;\u001b[0m\n",
      "\u001b[35merror_log  /dev/stderr;\n",
      "\u001b[0m\n",
      "\u001b[35mworker_rlimit_nofile 4096;\n",
      "\u001b[0m\n",
      "\u001b[35mevents {\n",
      "  worker_connections 2048;\u001b[0m\n",
      "\u001b[35m}\n",
      "\u001b[0m\n",
      "\u001b[34mhttp {\n",
      "  include /etc/nginx/mime.types;\n",
      "  default_type application/octet-stream;\n",
      "  access_log /dev/stdout combined;\n",
      "\n",
      "  upstream gunicorn {\n",
      "    server unix:/tmp/gunicorn.sock;\n",
      "  }\n",
      "\n",
      "  server {\n",
      "    listen 8080 deferred;\n",
      "    client_max_body_size 0;\n",
      "\n",
      "    keepalive_timeout 3;\n",
      "\n",
      "    location ~ ^/(ping|invocations|execution-parameters) {\n",
      "      proxy_set_header X-Forwarded-For $proxy_add_x_forwarded_for;\n",
      "      proxy_set_header Host $http_host;\n",
      "      proxy_redirect off;\n",
      "      proxy_read_timeout 60s;\n",
      "      proxy_pass http://gunicorn;\n",
      "    }\n",
      "\n",
      "    location / {\n",
      "      return 404 \"{}\";\n",
      "    }\n",
      "\n",
      "  }\u001b[0m\n",
      "\u001b[34m}\n",
      "\n",
      "\u001b[0m\n",
      "\u001b[34m[2021-08-02 20:31:41 +0000] [15] [INFO] Starting gunicorn 19.10.0\u001b[0m\n",
      "\u001b[34m[2021-08-02 20:31:41 +0000] [15] [INFO] Listening at: unix:/tmp/gunicorn.sock (15)\u001b[0m\n",
      "\u001b[34m[2021-08-02 20:31:41 +0000] [15] [INFO] Using worker: gevent\u001b[0m\n",
      "\u001b[34m[2021-08-02 20:31:41 +0000] [20] [INFO] Booting worker with pid: 20\u001b[0m\n",
      "\u001b[34m[2021-08-02 20:31:41 +0000] [21] [INFO] Booting worker with pid: 21\u001b[0m\n",
      "\u001b[34m[2021-08-02:20:31:43:INFO] No GPUs detected (normal if no gpus installed)\u001b[0m\n",
      "\u001b[34m[2021-08-02:20:31:43:INFO] Loading the model from /opt/ml/model/xgboost-model\u001b[0m\n",
      "\u001b[34m[2021-08-02:20:31:43:INFO] No GPUs detected (normal if no gpus installed)\u001b[0m\n",
      "\u001b[34m[2021-08-02:20:31:43:INFO] Loading the model from /opt/ml/model/xgboost-model\u001b[0m\n",
      "\u001b[34m[2021-08-02:20:31:43:INFO] Model objective : reg:squaredlogerror\u001b[0m\n",
      "\u001b[34m[2021-08-02:20:31:43:INFO] Model objective : reg:squaredlogerror\u001b[0m\n",
      "\u001b[35mhttp {\n",
      "  include /etc/nginx/mime.types;\n",
      "  default_type application/octet-stream;\n",
      "  access_log /dev/stdout combined;\n",
      "\n",
      "  upstream gunicorn {\n",
      "    server unix:/tmp/gunicorn.sock;\n",
      "  }\n",
      "\n",
      "  server {\n",
      "    listen 8080 deferred;\n",
      "    client_max_body_size 0;\n",
      "\n",
      "    keepalive_timeout 3;\n",
      "\n",
      "    location ~ ^/(ping|invocations|execution-parameters) {\n",
      "      proxy_set_header X-Forwarded-For $proxy_add_x_forwarded_for;\n",
      "      proxy_set_header Host $http_host;\n",
      "      proxy_redirect off;\n",
      "      proxy_read_timeout 60s;\n",
      "      proxy_pass http://gunicorn;\n",
      "    }\n",
      "\n",
      "    location / {\n",
      "      return 404 \"{}\";\n",
      "    }\n",
      "\n",
      "  }\u001b[0m\n",
      "\u001b[35m}\n",
      "\n",
      "\u001b[0m\n",
      "\u001b[35m[2021-08-02 20:31:41 +0000] [15] [INFO] Starting gunicorn 19.10.0\u001b[0m\n",
      "\u001b[35m[2021-08-02 20:31:41 +0000] [15] [INFO] Listening at: unix:/tmp/gunicorn.sock (15)\u001b[0m\n",
      "\u001b[35m[2021-08-02 20:31:41 +0000] [15] [INFO] Using worker: gevent\u001b[0m\n",
      "\u001b[35m[2021-08-02 20:31:41 +0000] [20] [INFO] Booting worker with pid: 20\u001b[0m\n",
      "\u001b[35m[2021-08-02 20:31:41 +0000] [21] [INFO] Booting worker with pid: 21\u001b[0m\n",
      "\u001b[35m[2021-08-02:20:31:43:INFO] No GPUs detected (normal if no gpus installed)\u001b[0m\n",
      "\u001b[35m[2021-08-02:20:31:43:INFO] Loading the model from /opt/ml/model/xgboost-model\u001b[0m\n",
      "\u001b[35m[2021-08-02:20:31:43:INFO] No GPUs detected (normal if no gpus installed)\u001b[0m\n",
      "\u001b[35m[2021-08-02:20:31:43:INFO] Loading the model from /opt/ml/model/xgboost-model\u001b[0m\n",
      "\u001b[35m[2021-08-02:20:31:43:INFO] Model objective : reg:squaredlogerror\u001b[0m\n",
      "\u001b[35m[2021-08-02:20:31:43:INFO] Model objective : reg:squaredlogerror\u001b[0m\n",
      "\u001b[34m[2021-08-02:20:31:47:INFO] No GPUs detected (normal if no gpus installed)\u001b[0m\n",
      "\u001b[34m169.254.255.130 - - [02/Aug/2021:20:31:47 +0000] \"GET /ping HTTP/1.1\" 200 0 \"-\" \"Go-http-client/1.1\"\u001b[0m\n",
      "\u001b[34m[2021-08-02:20:31:47:INFO] No GPUs detected (normal if no gpus installed)\u001b[0m\n",
      "\u001b[34m169.254.255.130 - - [02/Aug/2021:20:31:47 +0000] \"GET /execution-parameters HTTP/1.1\" 200 84 \"-\" \"Go-http-client/1.1\"\u001b[0m\n",
      "\u001b[35m[2021-08-02:20:31:47:INFO] No GPUs detected (normal if no gpus installed)\u001b[0m\n",
      "\u001b[35m169.254.255.130 - - [02/Aug/2021:20:31:47 +0000] \"GET /ping HTTP/1.1\" 200 0 \"-\" \"Go-http-client/1.1\"\u001b[0m\n",
      "\u001b[35m[2021-08-02:20:31:47:INFO] No GPUs detected (normal if no gpus installed)\u001b[0m\n",
      "\u001b[35m169.254.255.130 - - [02/Aug/2021:20:31:47 +0000] \"GET /execution-parameters HTTP/1.1\" 200 84 \"-\" \"Go-http-client/1.1\"\u001b[0m\n",
      "\u001b[34m[2021-08-02:20:31:50:INFO] Determined delimiter of CSV input is ','\u001b[0m\n",
      "\u001b[34m[2021-08-02:20:31:50:INFO] Determined delimiter of CSV input is ','\u001b[0m\n",
      "\u001b[35m[2021-08-02:20:31:50:INFO] Determined delimiter of CSV input is ','\u001b[0m\n",
      "\u001b[35m[2021-08-02:20:31:50:INFO] Determined delimiter of CSV input is ','\u001b[0m\n",
      "\u001b[32m2021-08-02T20:31:47.569:[sagemaker logs]: MaxConcurrentTransforms=2, MaxPayloadInMB=6, BatchStrategy=MULTI_RECORD\u001b[0m\n",
      "\u001b[34m169.254.255.130 - - [02/Aug/2021:20:31:51 +0000] \"POST /invocations HTTP/1.1\" 200 509027 \"-\" \"Go-http-client/1.1\"\u001b[0m\n",
      "\u001b[34m169.254.255.130 - - [02/Aug/2021:20:31:51 +0000] \"POST /invocations HTTP/1.1\" 200 508701 \"-\" \"Go-http-client/1.1\"\u001b[0m\n",
      "\u001b[34m[2021-08-02:20:31:51:INFO] Determined delimiter of CSV input is ','\u001b[0m\n",
      "\u001b[34m[2021-08-02:20:31:51:INFO] Determined delimiter of CSV input is ','\u001b[0m\n",
      "\u001b[35m169.254.255.130 - - [02/Aug/2021:20:31:51 +0000] \"POST /invocations HTTP/1.1\" 200 509027 \"-\" \"Go-http-client/1.1\"\u001b[0m\n",
      "\u001b[35m169.254.255.130 - - [02/Aug/2021:20:31:51 +0000] \"POST /invocations HTTP/1.1\" 200 508701 \"-\" \"Go-http-client/1.1\"\u001b[0m\n",
      "\u001b[35m[2021-08-02:20:31:51:INFO] Determined delimiter of CSV input is ','\u001b[0m\n",
      "\u001b[35m[2021-08-02:20:31:51:INFO] Determined delimiter of CSV input is ','\u001b[0m\n",
      "\u001b[34m169.254.255.130 - - [02/Aug/2021:20:31:53 +0000] \"POST /invocations HTTP/1.1\" 200 503670 \"-\" \"Go-http-client/1.1\"\u001b[0m\n",
      "\u001b[34m169.254.255.130 - - [02/Aug/2021:20:31:53 +0000] \"POST /invocations HTTP/1.1\" 200 506027 \"-\" \"Go-http-client/1.1\"\u001b[0m\n",
      "\u001b[34m[2021-08-02:20:31:53:INFO] Determined delimiter of CSV input is ','\u001b[0m\n",
      "\u001b[34m[2021-08-02:20:31:53:INFO] Determined delimiter of CSV input is ','\u001b[0m\n",
      "\u001b[35m169.254.255.130 - - [02/Aug/2021:20:31:53 +0000] \"POST /invocations HTTP/1.1\" 200 503670 \"-\" \"Go-http-client/1.1\"\u001b[0m\n",
      "\u001b[35m169.254.255.130 - - [02/Aug/2021:20:31:53 +0000] \"POST /invocations HTTP/1.1\" 200 506027 \"-\" \"Go-http-client/1.1\"\u001b[0m\n",
      "\u001b[35m[2021-08-02:20:31:53:INFO] Determined delimiter of CSV input is ','\u001b[0m\n",
      "\u001b[35m[2021-08-02:20:31:53:INFO] Determined delimiter of CSV input is ','\u001b[0m\n",
      "\u001b[34m169.254.255.130 - - [02/Aug/2021:20:31:55 +0000] \"POST /invocations HTTP/1.1\" 200 504138 \"-\" \"Go-http-client/1.1\"\u001b[0m\n",
      "\u001b[34m169.254.255.130 - - [02/Aug/2021:20:31:55 +0000] \"POST /invocations HTTP/1.1\" 200 511423 \"-\" \"Go-http-client/1.1\"\u001b[0m\n",
      "\u001b[34m[2021-08-02:20:31:55:INFO] Determined delimiter of CSV input is ','\u001b[0m\n",
      "\u001b[34m[2021-08-02:20:31:55:INFO] Determined delimiter of CSV input is ','\u001b[0m\n",
      "\u001b[35m169.254.255.130 - - [02/Aug/2021:20:31:55 +0000] \"POST /invocations HTTP/1.1\" 200 504138 \"-\" \"Go-http-client/1.1\"\u001b[0m\n",
      "\u001b[35m169.254.255.130 - - [02/Aug/2021:20:31:55 +0000] \"POST /invocations HTTP/1.1\" 200 511423 \"-\" \"Go-http-client/1.1\"\u001b[0m\n",
      "\u001b[35m[2021-08-02:20:31:55:INFO] Determined delimiter of CSV input is ','\u001b[0m\n",
      "\u001b[35m[2021-08-02:20:31:55:INFO] Determined delimiter of CSV input is ','\u001b[0m\n",
      "\u001b[34m169.254.255.130 - - [02/Aug/2021:20:31:56 +0000] \"POST /invocations HTTP/1.1\" 200 509418 \"-\" \"Go-http-client/1.1\"\u001b[0m\n",
      "\u001b[34m169.254.255.130 - - [02/Aug/2021:20:31:56 +0000] \"POST /invocations HTTP/1.1\" 200 510953 \"-\" \"Go-http-client/1.1\"\u001b[0m\n",
      "\u001b[34m[2021-08-02:20:31:57:INFO] Determined delimiter of CSV input is ','\u001b[0m\n",
      "\u001b[34m[2021-08-02:20:31:57:INFO] Determined delimiter of CSV input is ','\u001b[0m\n",
      "\u001b[35m169.254.255.130 - - [02/Aug/2021:20:31:56 +0000] \"POST /invocations HTTP/1.1\" 200 509418 \"-\" \"Go-http-client/1.1\"\u001b[0m\n",
      "\u001b[35m169.254.255.130 - - [02/Aug/2021:20:31:56 +0000] \"POST /invocations HTTP/1.1\" 200 510953 \"-\" \"Go-http-client/1.1\"\u001b[0m\n",
      "\u001b[35m[2021-08-02:20:31:57:INFO] Determined delimiter of CSV input is ','\u001b[0m\n",
      "\u001b[35m[2021-08-02:20:31:57:INFO] Determined delimiter of CSV input is ','\u001b[0m\n",
      "\u001b[34m169.254.255.130 - - [02/Aug/2021:20:31:58 +0000] \"POST /invocations HTTP/1.1\" 200 515632 \"-\" \"Go-http-client/1.1\"\u001b[0m\n",
      "\u001b[35m169.254.255.130 - - [02/Aug/2021:20:31:58 +0000] \"POST /invocations HTTP/1.1\" 200 515632 \"-\" \"Go-http-client/1.1\"\u001b[0m\n",
      "\u001b[34m[2021-08-02:20:31:58:INFO] Determined delimiter of CSV input is ','\u001b[0m\n",
      "\u001b[34m169.254.255.130 - - [02/Aug/2021:20:31:58 +0000] \"POST /invocations HTTP/1.1\" 200 526436 \"-\" \"Go-http-client/1.1\"\u001b[0m\n",
      "\u001b[34m169.254.255.130 - - [02/Aug/2021:20:31:59 +0000] \"POST /invocations HTTP/1.1\" 200 315841 \"-\" \"Go-http-client/1.1\"\u001b[0m\n",
      "\u001b[35m[2021-08-02:20:31:58:INFO] Determined delimiter of CSV input is ','\u001b[0m\n",
      "\u001b[35m169.254.255.130 - - [02/Aug/2021:20:31:58 +0000] \"POST /invocations HTTP/1.1\" 200 526436 \"-\" \"Go-http-client/1.1\"\u001b[0m\n",
      "\u001b[35m169.254.255.130 - - [02/Aug/2021:20:31:59 +0000] \"POST /invocations HTTP/1.1\" 200 315841 \"-\" \"Go-http-client/1.1\"\u001b[0m\n"
     ]
    }
   ],
   "source": [
    "xgb_transformer.transform(test_path_no_target, data_type=\"S3Prefix\",\n",
    "                          split_type=\"Line\", content_type=\"text/csv\", logs=False)\n",
    "xgb_transformer.wait()"
   ]
  },
  {
   "cell_type": "markdown",
   "metadata": {},
   "source": [
    "The inference is done and the output files are writen to the default bucket. Now we need to load these files and compare against the actual target:"
   ]
  },
  {
   "cell_type": "code",
   "execution_count": 87,
   "metadata": {},
   "outputs": [],
   "source": [
    "def get_csv_output_from_s3(s3uri, file_name):\n",
    "    parsed_url = urlparse(s3uri)\n",
    "    bucket_name = parsed_url.netloc\n",
    "    prefix = parsed_url.path[1:]\n",
    "    s3 = boto3.resource(\"s3\")\n",
    "    obj = s3.Object(bucket_name, \"{}/{}\".format(prefix, file_name))\n",
    "    return obj.get()[\"Body\"].read().decode(\"utf-8\")"
   ]
  },
  {
   "cell_type": "code",
   "execution_count": 95,
   "metadata": {},
   "outputs": [
    {
     "name": "stdout",
     "output_type": "stream",
     "text": [
      "(259272,) (28809,) (305007,)\n"
     ]
    }
   ],
   "source": [
    "train_output = get_csv_output_from_s3(output_path_pred, \"train_no_target.csv.out\")\n",
    "valid_output = get_csv_output_from_s3(output_path_pred, \"valid_no_target.csv.out\")\n",
    "test_output = get_csv_output_from_s3(output_path_pred, \"test_no_target.csv.out\")\n",
    "train_predictions = pd.read_csv(io.StringIO(train_output), sep=\",\", header=None, squeeze=True)\n",
    "valid_predictions = pd.read_csv(io.StringIO(valid_output), sep=\",\", header=None, squeeze=True)\n",
    "test_predictions = pd.read_csv(io.StringIO(test_output),  sep=\",\", header=None, squeeze=True)\n",
    "print(train_predictions.shape, valid_predictions.shape, test_predictions.shape)"
   ]
  },
  {
   "cell_type": "code",
   "execution_count": 99,
   "metadata": {},
   "outputs": [
    {
     "data": {
      "text/plain": [
       "187650      94.309998\n",
       "167886     708.890015\n",
       "251411     663.369995\n",
       "155633    1254.760010\n",
       "41853      581.130005\n",
       "             ...     \n",
       "211543     199.470001\n",
       "86293     1998.349976\n",
       "122579     298.579987\n",
       "152315     426.459991\n",
       "117952    1090.209961\n",
       "Name: purchaseamount_90d, Length: 259272, dtype: float32"
      ]
     },
     "execution_count": 99,
     "metadata": {},
     "output_type": "execute_result"
    }
   ],
   "source": [
    "train.purchaseamount_90d"
   ]
  },
  {
   "cell_type": "code",
   "execution_count": 100,
   "metadata": {},
   "outputs": [
    {
     "data": {
      "text/plain": [
       "0         420.060089\n",
       "1         476.577271\n",
       "2         787.423401\n",
       "3         843.479614\n",
       "4         855.192200\n",
       "             ...    \n",
       "259267    803.998108\n",
       "259268    858.120483\n",
       "259269    499.392609\n",
       "259270    535.215698\n",
       "259271    811.877563\n",
       "Name: 0, Length: 259272, dtype: float64"
      ]
     },
     "execution_count": 100,
     "metadata": {},
     "output_type": "execute_result"
    }
   ],
   "source": [
    "train_predictions"
   ]
  },
  {
   "cell_type": "markdown",
   "metadata": {},
   "source": [
    "## 6. Model performance"
   ]
  },
  {
   "cell_type": "code",
   "execution_count": 111,
   "metadata": {},
   "outputs": [
    {
     "name": "stdout",
     "output_type": "stream",
     "text": [
      "RMSLE - train: 0.7325, valid: 0.7339, test: 0.7153\n"
     ]
    }
   ],
   "source": [
    "from sklearn.metrics import mean_squared_log_error, mean_squared_error\n",
    "\n",
    "def get_score(y_true, y_pred, metric=\"rmsle\"):\n",
    "    assert len(y_true) == len(y_pred)\n",
    "    if metric == \"rmsle\":\n",
    "        return np.sqrt(mean_squared_log_error(y_true, y_pred))\n",
    "    elif metric == \"rmse\":\n",
    "        return np.sqrt(mean_squared_error(y_true, y_pred))\n",
    "    else:\n",
    "        raise ValueError(\"Metric {} not available\".format(metric))\n",
    "\n",
    "train_score = get_score(train.purchaseamount_90d, train_predictions, \"rmsle\")\n",
    "valid_score = get_score(valid.purchaseamount_90d, valid_predictions, \"rmsle\")\n",
    "test_score = get_score(test.purchaseamount_90d, test_predictions, \"rmsle\")\n",
    "print(\"RMSLE - train: {:.4f}, valid: {:.4f}, test: {:.4f}\".format(train_score, valid_score, test_score))"
   ]
  },
  {
   "cell_type": "code",
   "execution_count": 112,
   "metadata": {},
   "outputs": [
    {
     "data": {
      "image/png": "[encoded data removed]",
      "text/plain": [
       "<Figure size 1008x720 with 4 Axes>"
      ]
     },
     "metadata": {},
     "output_type": "display_data"
    }
   ],
   "source": [
    "fig, axes = plt.subplots(2, 2, figsize=(14, 10))\n",
    "axes = axes.flatten()\n",
    "fig.suptitle('Predicted vs actual target and distribution')\n",
    "sns.regplot(x=train_predictions, y=train.purchaseamount_90d, ax=axes[0])\n",
    "sns.regplot(x=test_predictions, y=test.purchaseamount_90d,\n",
    "            ax=axes[1], color=\"orange\")\n",
    "sns.distplot(train_predictions, kde=False, ax=axes[2])\n",
    "sns.distplot(test_predictions, kde=False, ax=axes[3], color=\"orange\")\n",
    "_ = axes[0].set(xlabel='train predictions')\n",
    "_ = axes[1].set(xlabel='test predictions')"
   ]
  },
  {
   "cell_type": "markdown",
   "metadata": {},
   "source": [
    "Predictions are highly concentrated around the average transaction value for 90 days, indicating a high bias. In other words, with the current features, the xgboost is not being able to make good predictions. Consequently, this model has a lot of room to improve even further."
   ]
  },
  {
   "cell_type": "markdown",
   "metadata": {},
   "source": [
    "## 7. Deploy the model\n",
    "\n",
    "Now we can use the deploy method to create an endpoint api for making predictions with our model. This method returns a XGBoostPredictor object, which accepts libsvm and csv data as input. The default serializer is the libsvm, so we need to pass a CSVSerializer object to this method."
   ]
  },
  {
   "cell_type": "code",
   "execution_count": 113,
   "metadata": {},
   "outputs": [
    {
     "name": "stdout",
     "output_type": "stream",
     "text": [
      "-----------!"
     ]
    }
   ],
   "source": [
    "predictor = xgb_estimator.deploy(\n",
    "    initial_instance_count=1, instance_type=\"ml.t2.medium\",\n",
    "    serializer=sagemaker.serializers.CSVSerializer(content_type='text/csv')\n",
    ")"
   ]
  },
  {
   "cell_type": "code",
   "execution_count": 114,
   "metadata": {},
   "outputs": [],
   "source": [
    "# Testing the endpoint\n",
    "train.reset_index().loc[:10, features].to_csv(\"sample_data.csv\", index=False, header=False)"
   ]
  },
  {
   "cell_type": "code",
   "execution_count": 115,
   "metadata": {},
   "outputs": [],
   "source": [
    "with open(\"sample_data.csv\", \"r\") as f:\n",
    "    payload = f.read()"
   ]
  },
  {
   "cell_type": "code",
   "execution_count": 116,
   "metadata": {},
   "outputs": [
    {
     "data": {
      "text/plain": [
       "b'420.0600891113281,476.5772705078125,787.4234008789062,843.4796142578125,855.1921997070312,814.732421875,864.5066528320312,816.8322143554688,839.1279907226562,831.0686645507812,546.3779296875'"
      ]
     },
     "execution_count": 116,
     "metadata": {},
     "output_type": "execute_result"
    }
   ],
   "source": [
    "train_pred = predictor.predict(payload)\n",
    "train_pred"
   ]
  },
  {
   "cell_type": "markdown",
   "metadata": {},
   "source": [
    "### Points to improve (Work in Progress!)\n",
    "\n",
    "- Better feature engineering\n",
    "- More hyperparameter tuning\n",
    "- Test the model with log target\n",
    "- Building a dashboard"
   ]
  }
 ],
 "metadata": {
  "instance_type": "ml.t3.medium",
  "kernelspec": {
   "display_name": "Python 3 (Data Science)",
   "language": "python",
   "name": "python3__SAGEMAKER_INTERNAL__arn:aws:sagemaker:us-east-2:429704687514:image/datascience-1.0"
  },
  "language_info": {
   "codemirror_mode": {
    "name": "ipython",
    "version": 3
   },
   "file_extension": ".py",
   "mimetype": "text/x-python",
   "name": "python",
   "nbconvert_exporter": "python",
   "pygments_lexer": "ipython3",
   "version": "3.7.10"
  }
 },
 "nbformat": 4,
 "nbformat_minor": 4
}
