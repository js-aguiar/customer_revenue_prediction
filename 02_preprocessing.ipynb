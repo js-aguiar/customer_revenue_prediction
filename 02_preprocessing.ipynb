{
 "cells": [
  {
   "cell_type": "markdown",
   "metadata": {},
   "source": [
    "# Preprocessing transactions\n",
    "\n",
    "In this notebook we will be preprocessing the transactions file. There are four main steps:\n",
    "\n",
    "- Data preprocessing / cleaning\n",
    "\n",
    "- Spliting the data in development (training) and out-of-time (test) samples\n",
    "\n",
    "- Create the target for each sample\n",
    "\n",
    "- Save preprocessed datasets to S3"
   ]
  },
  {
   "cell_type": "code",
   "execution_count": 14,
   "metadata": {
    "collapsed": true,
    "jupyter": {
     "outputs_hidden": true
    }
   },
   "outputs": [
    {
     "name": "stdout",
     "output_type": "stream",
     "text": [
      "/opt/conda/lib/python3.7/site-packages/secretstorage/dhcrypto.py:16: CryptographyDeprecationWarning: int_from_bytes is deprecated, use int.from_bytes instead\n",
      "  from cryptography.utils import int_from_bytes\n",
      "/opt/conda/lib/python3.7/site-packages/secretstorage/util.py:25: CryptographyDeprecationWarning: int_from_bytes is deprecated, use int.from_bytes instead\n",
      "  from cryptography.utils import int_from_bytes\n",
      "Collecting awswrangler\n",
      "  Downloading awswrangler-2.9.0-py3-none-any.whl (183 kB)\n",
      "\u001b[K     |████████████████████████████████| 183 kB 5.4 MB/s eta 0:00:01\n",
      "\u001b[?25hRequirement already satisfied: pyarrow<4.1.0,>=2.0.0 in /opt/conda/lib/python3.7/site-packages (from awswrangler) (4.0.0)\n",
      "Collecting pandas<1.3.0,>=1.1.0\n",
      "  Downloading pandas-1.2.5-cp37-cp37m-manylinux_2_5_x86_64.manylinux1_x86_64.whl (9.9 MB)\n",
      "\u001b[K     |████████████████████████████████| 9.9 MB 12.2 MB/s eta 0:00:01\n",
      "\u001b[?25hRequirement already satisfied: numpy<1.21.0,>=1.18.0 in /opt/conda/lib/python3.7/site-packages (from awswrangler) (1.20.3)\n",
      "Collecting pg8000<1.20.0,>=1.16.0\n",
      "  Downloading pg8000-1.19.5-py3-none-any.whl (34 kB)\n",
      "Requirement already satisfied: botocore<2.0.0,>=1.19.8 in /opt/conda/lib/python3.7/site-packages (from awswrangler) (1.20.74)\n",
      "Collecting redshift-connector~=2.0.0\n",
      "  Downloading redshift_connector-2.0.883-py3-none-any.whl (93 kB)\n",
      "\u001b[K     |████████████████████████████████| 93 kB 61 kB/s s eta 0:00:01\n",
      "\u001b[?25hCollecting pymysql<1.1.0,>=0.9.0\n",
      "  Downloading PyMySQL-1.0.2-py3-none-any.whl (43 kB)\n",
      "\u001b[K     |████████████████████████████████| 43 kB 296 kB/s  eta 0:00:01\n",
      "\u001b[?25hRequirement already satisfied: openpyxl~=3.0.0 in /opt/conda/lib/python3.7/site-packages (from awswrangler) (3.0.3)\n",
      "Requirement already satisfied: boto3<2.0.0,>=1.16.8 in /opt/conda/lib/python3.7/site-packages (from awswrangler) (1.17.74)\n",
      "Requirement already satisfied: s3transfer<0.5.0,>=0.4.0 in /opt/conda/lib/python3.7/site-packages (from boto3<2.0.0,>=1.16.8->awswrangler) (0.4.2)\n",
      "Requirement already satisfied: jmespath<1.0.0,>=0.7.1 in /opt/conda/lib/python3.7/site-packages (from boto3<2.0.0,>=1.16.8->awswrangler) (0.10.0)\n",
      "Requirement already satisfied: urllib3<1.27,>=1.25.4 in /opt/conda/lib/python3.7/site-packages (from botocore<2.0.0,>=1.19.8->awswrangler) (1.26.4)\n",
      "Requirement already satisfied: python-dateutil<3.0.0,>=2.1 in /opt/conda/lib/python3.7/site-packages (from botocore<2.0.0,>=1.19.8->awswrangler) (2.8.1)\n",
      "Requirement already satisfied: jdcal in /opt/conda/lib/python3.7/site-packages (from openpyxl~=3.0.0->awswrangler) (1.4.1)\n",
      "Requirement already satisfied: et-xmlfile in /opt/conda/lib/python3.7/site-packages (from openpyxl~=3.0.0->awswrangler) (1.0.1)\n",
      "Requirement already satisfied: pytz>=2017.3 in /opt/conda/lib/python3.7/site-packages (from pandas<1.3.0,>=1.1.0->awswrangler) (2019.3)\n",
      "Collecting scramp==1.4.0\n",
      "  Downloading scramp-1.4.0-py3-none-any.whl (8.4 kB)\n",
      "Collecting asn1crypto==1.4.0\n",
      "  Downloading asn1crypto-1.4.0-py2.py3-none-any.whl (104 kB)\n",
      "\u001b[K     |████████████████████████████████| 104 kB 116.3 MB/s eta 0:00:01\n",
      "\u001b[?25hRequirement already satisfied: six>=1.5 in /opt/conda/lib/python3.7/site-packages (from python-dateutil<3.0.0,>=2.1->botocore<2.0.0,>=1.19.8->awswrangler) (1.14.0)\n",
      "Requirement already satisfied: beautifulsoup4<5.0.0,>=4.7.0 in /opt/conda/lib/python3.7/site-packages (from redshift-connector~=2.0.0->awswrangler) (4.8.2)\n",
      "Requirement already satisfied: requests<2.25.2,>=2.23.0 in /opt/conda/lib/python3.7/site-packages (from redshift-connector~=2.0.0->awswrangler) (2.25.1)\n",
      "Collecting pytz>=2017.3\n",
      "  Downloading pytz-2021.1-py2.py3-none-any.whl (510 kB)\n",
      "\u001b[K     |████████████████████████████████| 510 kB 105.2 MB/s eta 0:00:01\n",
      "\u001b[?25hRequirement already satisfied: lxml>=4.6.2 in /opt/conda/lib/python3.7/site-packages (from redshift-connector~=2.0.0->awswrangler) (4.6.3)\n",
      "Requirement already satisfied: soupsieve>=1.2 in /opt/conda/lib/python3.7/site-packages (from beautifulsoup4<5.0.0,>=4.7.0->redshift-connector~=2.0.0->awswrangler) (1.9.5)\n",
      "Requirement already satisfied: chardet<5,>=3.0.2 in /opt/conda/lib/python3.7/site-packages (from requests<2.25.2,>=2.23.0->redshift-connector~=2.0.0->awswrangler) (3.0.4)\n",
      "Requirement already satisfied: certifi>=2017.4.17 in /opt/conda/lib/python3.7/site-packages (from requests<2.25.2,>=2.23.0->redshift-connector~=2.0.0->awswrangler) (2020.12.5)\n",
      "Requirement already satisfied: idna<3,>=2.5 in /opt/conda/lib/python3.7/site-packages (from requests<2.25.2,>=2.23.0->redshift-connector~=2.0.0->awswrangler) (2.8)\n",
      "Installing collected packages: asn1crypto, scramp, pytz, redshift-connector, pymysql, pg8000, pandas, awswrangler\n",
      "  Attempting uninstall: asn1crypto\n",
      "    Found existing installation: asn1crypto 1.3.0\n",
      "    Uninstalling asn1crypto-1.3.0:\n",
      "      Successfully uninstalled asn1crypto-1.3.0\n",
      "  Attempting uninstall: pytz\n",
      "    Found existing installation: pytz 2019.3\n",
      "    Uninstalling pytz-2019.3:\n",
      "      Successfully uninstalled pytz-2019.3\n",
      "  Attempting uninstall: pandas\n",
      "    Found existing installation: pandas 1.0.1\n",
      "    Uninstalling pandas-1.0.1:\n",
      "      Successfully uninstalled pandas-1.0.1\n",
      "Successfully installed asn1crypto-1.4.0 awswrangler-2.9.0 pandas-1.2.5 pg8000-1.19.5 pymysql-1.0.2 pytz-2021.1 redshift-connector-2.0.883 scramp-1.4.0\n",
      "\u001b[33mWARNING: Running pip as root will break packages and permissions. You should install packages reliably by using venv: https://pip.pypa.io/warnings/venv\u001b[0m\n",
      "\u001b[33mWARNING: You are using pip version 21.1.1; however, version 21.1.3 is available.\n",
      "You should consider upgrading via the '/opt/conda/bin/python3 -m pip install --upgrade pip' command.\u001b[0m\n"
     ]
    }
   ],
   "source": [
    "!python3 -m pip install awswrangler"
   ]
  },
  {
   "cell_type": "code",
   "execution_count": 15,
   "metadata": {},
   "outputs": [],
   "source": [
    "import io\n",
    "import gc\n",
    "from datetime import datetime\n",
    "import numpy as np\n",
    "import pandas as pd\n",
    "import matplotlib.pyplot as plt\n",
    "import seaborn as sns\n",
    "sns.set()\n",
    "\n",
    "import awswrangler as wr\n",
    "import boto3\n",
    "\n",
    "def read_from_s3(bucket, filepath, file_type=\"csv\"):\n",
    "    if file_type == \"csv\":\n",
    "        s3 = boto3.client('s3')\n",
    "        obj = s3.get_object(Bucket=bucket, Key=filepath)\n",
    "        csv_string = obj['Body'].read().decode('utf-8')\n",
    "        return pd.read_csv(io.StringIO(csv_string))\n",
    "    elif file_type == \"parquet\":\n",
    "        buffer = io.BytesIO()\n",
    "        s3 = boto3.resource('s3')\n",
    "        obj = s3.Object(bucket, filepath)\n",
    "        obj.download_fileobj(buffer)\n",
    "        return pd.read_parquet(buffer)\n",
    "    else:\n",
    "        raise ValueError(\"File format is not supported\")"
   ]
  },
  {
   "cell_type": "code",
   "execution_count": 2,
   "metadata": {},
   "outputs": [
    {
     "name": "stdout",
     "output_type": "stream",
     "text": [
      "(317376998, 11)\n"
     ]
    }
   ],
   "source": [
    "# Read full transactions file from S3\n",
    "bucket = 'capstone-transaction-data'\n",
    "df = read_from_s3(bucket, 'raw_data/transactions.parquet', 'parquet')\n",
    "print(df.shape)"
   ]
  },
  {
   "cell_type": "markdown",
   "metadata": {},
   "source": [
    "## Data preprocessing\n",
    "\n",
    "Following from the EDA in the last notebook, we will be preprocessing the full dataset:\n",
    "\n",
    "- Cutoff in march 2013\n",
    "\n",
    "- Removing returns (transactions with negative amount)\n",
    "\n",
    "- Remove some columns that wont be used"
   ]
  },
  {
   "cell_type": "code",
   "execution_count": 3,
   "metadata": {},
   "outputs": [
    {
     "name": "stdout",
     "output_type": "stream",
     "text": [
      "(273618974, 9)\n"
     ]
    }
   ],
   "source": [
    "cols = [\n",
    "    'id', 'chain', 'dept', 'category', 'company', 'brand',\n",
    "    'date', 'purchasequantity', 'purchaseamount'\n",
    "]\n",
    "mask = (df.date <= 20130331) & (df.purchaseamount > 0)\n",
    "df = df.loc[mask, cols]\n",
    "print(df.shape)"
   ]
  },
  {
   "cell_type": "markdown",
   "metadata": {},
   "source": [
    "## Spliting the data\n",
    "\n",
    "Spliting the data in train and test (out-of-time) samples.\n",
    "\n",
    "Our target is the total purchaseamount for the last 90 days for each customer."
   ]
  },
  {
   "cell_type": "code",
   "execution_count": 5,
   "metadata": {},
   "outputs": [
    {
     "name": "stdout",
     "output_type": "stream",
     "text": [
      "2012-10-02 00:00:00 2012-12-31 00:00:00\n"
     ]
    }
   ],
   "source": [
    "df[\"date_dt\"] = pd.to_datetime(df.date.astype(str), infer_datetime_format=True)\n",
    "\n",
    "# Threshold for the 90 days observed revenue\n",
    "test_threshold = df.date_dt.max() - pd.Timedelta(90, unit=\"days\")\n",
    "train_threshold= test_threshold - pd.Timedelta(90, unit=\"days\")\n",
    "print(train_threshold, test_threshold)"
   ]
  },
  {
   "cell_type": "markdown",
   "metadata": {},
   "source": [
    "### Test set files"
   ]
  },
  {
   "cell_type": "code",
   "execution_count": 11,
   "metadata": {},
   "outputs": [
    {
     "name": "stdout",
     "output_type": "stream",
     "text": [
      "(307332, 2)\n"
     ]
    },
    {
     "data": {
      "text/html": [
       "<div>\n",
       "<style scoped>\n",
       "    .dataframe tbody tr th:only-of-type {\n",
       "        vertical-align: middle;\n",
       "    }\n",
       "\n",
       "    .dataframe tbody tr th {\n",
       "        vertical-align: top;\n",
       "    }\n",
       "\n",
       "    .dataframe thead th {\n",
       "        text-align: right;\n",
       "    }\n",
       "</style>\n",
       "<table border=\"1\" class=\"dataframe\">\n",
       "  <thead>\n",
       "    <tr style=\"text-align: right;\">\n",
       "      <th></th>\n",
       "      <th>id</th>\n",
       "      <th>purchaseamount_90d</th>\n",
       "    </tr>\n",
       "  </thead>\n",
       "  <tbody>\n",
       "    <tr>\n",
       "      <th>0</th>\n",
       "      <td>12262064</td>\n",
       "      <td>328.959991</td>\n",
       "    </tr>\n",
       "    <tr>\n",
       "      <th>1</th>\n",
       "      <td>12277270</td>\n",
       "      <td>1876.000000</td>\n",
       "    </tr>\n",
       "    <tr>\n",
       "      <th>2</th>\n",
       "      <td>12332190</td>\n",
       "      <td>864.099976</td>\n",
       "    </tr>\n",
       "  </tbody>\n",
       "</table>\n",
       "</div>"
      ],
      "text/plain": [
       "         id  purchaseamount_90d\n",
       "0  12262064          328.959991\n",
       "1  12277270         1876.000000\n",
       "2  12332190          864.099976"
      ]
     },
     "execution_count": 11,
     "metadata": {},
     "output_type": "execute_result"
    }
   ],
   "source": [
    "mask = df[\"date_dt\"] >= test_threshold\n",
    "test_target = df[mask].groupby(\"id\")[\"purchaseamount\"].sum()\n",
    "test_target = test_target.to_frame().reset_index()\n",
    "test_target.columns = [\"id\", \"purchaseamount_90d\"]\n",
    "print(test_target.shape)\n",
    "test_target.head(3)"
   ]
  },
  {
   "cell_type": "code",
   "execution_count": 12,
   "metadata": {},
   "outputs": [
    {
     "name": "stdout",
     "output_type": "stream",
     "text": [
      "(206661184, 10)\n"
     ]
    },
    {
     "data": {
      "text/html": [
       "<div>\n",
       "<style scoped>\n",
       "    .dataframe tbody tr th:only-of-type {\n",
       "        vertical-align: middle;\n",
       "    }\n",
       "\n",
       "    .dataframe tbody tr th {\n",
       "        vertical-align: top;\n",
       "    }\n",
       "\n",
       "    .dataframe thead th {\n",
       "        text-align: right;\n",
       "    }\n",
       "</style>\n",
       "<table border=\"1\" class=\"dataframe\">\n",
       "  <thead>\n",
       "    <tr style=\"text-align: right;\">\n",
       "      <th></th>\n",
       "      <th>id</th>\n",
       "      <th>chain</th>\n",
       "      <th>dept</th>\n",
       "      <th>category</th>\n",
       "      <th>company</th>\n",
       "      <th>brand</th>\n",
       "      <th>date</th>\n",
       "      <th>purchasequantity</th>\n",
       "      <th>purchaseamount</th>\n",
       "      <th>date_dt</th>\n",
       "    </tr>\n",
       "  </thead>\n",
       "  <tbody>\n",
       "    <tr>\n",
       "      <th>0</th>\n",
       "      <td>12262064</td>\n",
       "      <td>95</td>\n",
       "      <td>4</td>\n",
       "      <td>411</td>\n",
       "      <td>102070929</td>\n",
       "      <td>18785</td>\n",
       "      <td>20120302</td>\n",
       "      <td>2</td>\n",
       "      <td>2.50</td>\n",
       "      <td>2012-03-02</td>\n",
       "    </tr>\n",
       "    <tr>\n",
       "      <th>1</th>\n",
       "      <td>12262064</td>\n",
       "      <td>95</td>\n",
       "      <td>36</td>\n",
       "      <td>3630</td>\n",
       "      <td>107800070</td>\n",
       "      <td>5208</td>\n",
       "      <td>20120302</td>\n",
       "      <td>1</td>\n",
       "      <td>1.99</td>\n",
       "      <td>2012-03-02</td>\n",
       "    </tr>\n",
       "  </tbody>\n",
       "</table>\n",
       "</div>"
      ],
      "text/plain": [
       "         id  chain  dept  category    company  brand      date  \\\n",
       "0  12262064     95     4       411  102070929  18785  20120302   \n",
       "1  12262064     95    36      3630  107800070   5208  20120302   \n",
       "\n",
       "   purchasequantity  purchaseamount    date_dt  \n",
       "0                 2            2.50 2012-03-02  \n",
       "1                 1            1.99 2012-03-02  "
      ]
     },
     "execution_count": 12,
     "metadata": {},
     "output_type": "execute_result"
    }
   ],
   "source": [
    "test_transactions = df[df[\"date_dt\"] < test_threshold]\n",
    "print(test_transactions.shape)\n",
    "test_transactions.head(2)"
   ]
  },
  {
   "cell_type": "code",
   "execution_count": 17,
   "metadata": {},
   "outputs": [
    {
     "data": {
      "text/plain": [
       "140023"
      ]
     },
     "execution_count": 17,
     "metadata": {},
     "output_type": "execute_result"
    }
   ],
   "source": [
    "wr.s3.to_parquet(\n",
    "    df=test_transactions.drop(\"date_dt\", axis=1),\n",
    "    path=\"s3://capstone-transaction-data/preprocessed_data/test_transactions.parquet\"\n",
    ")\n",
    "\n",
    "wr.s3.to_parquet(\n",
    "    df=test_target,\n",
    "    path=\"s3://capstone-transaction-data/preprocessed_data/test_target.parquet\"\n",
    ")\n",
    "\n",
    "del test_transactions, test_target\n",
    "gc.collect()"
   ]
  },
  {
   "cell_type": "markdown",
   "metadata": {},
   "source": [
    "### Train set files"
   ]
  },
  {
   "cell_type": "code",
   "execution_count": 18,
   "metadata": {},
   "outputs": [
    {
     "name": "stdout",
     "output_type": "stream",
     "text": [
      "(303779, 2)\n"
     ]
    },
    {
     "data": {
      "text/html": [
       "<div>\n",
       "<style scoped>\n",
       "    .dataframe tbody tr th:only-of-type {\n",
       "        vertical-align: middle;\n",
       "    }\n",
       "\n",
       "    .dataframe tbody tr th {\n",
       "        vertical-align: top;\n",
       "    }\n",
       "\n",
       "    .dataframe thead th {\n",
       "        text-align: right;\n",
       "    }\n",
       "</style>\n",
       "<table border=\"1\" class=\"dataframe\">\n",
       "  <thead>\n",
       "    <tr style=\"text-align: right;\">\n",
       "      <th></th>\n",
       "      <th>id</th>\n",
       "      <th>purchaseamount_90d</th>\n",
       "    </tr>\n",
       "  </thead>\n",
       "  <tbody>\n",
       "    <tr>\n",
       "      <th>0</th>\n",
       "      <td>12262064</td>\n",
       "      <td>838.989990</td>\n",
       "    </tr>\n",
       "    <tr>\n",
       "      <th>1</th>\n",
       "      <td>12277270</td>\n",
       "      <td>1505.689941</td>\n",
       "    </tr>\n",
       "    <tr>\n",
       "      <th>2</th>\n",
       "      <td>12332190</td>\n",
       "      <td>1084.780029</td>\n",
       "    </tr>\n",
       "  </tbody>\n",
       "</table>\n",
       "</div>"
      ],
      "text/plain": [
       "         id  purchaseamount_90d\n",
       "0  12262064          838.989990\n",
       "1  12277270         1505.689941\n",
       "2  12332190         1084.780029"
      ]
     },
     "execution_count": 18,
     "metadata": {},
     "output_type": "execute_result"
    }
   ],
   "source": [
    "mask = (df[\"date_dt\"] < test_threshold) & (df[\"date_dt\"] >= train_threshold)\n",
    "train_target = df[mask].groupby(\"id\")[\"purchaseamount\"].sum()\n",
    "train_target = train_target.to_frame().reset_index()\n",
    "train_target.columns = [\"id\", \"purchaseamount_90d\"]\n",
    "print(train_target.shape)\n",
    "train_target.head(3)"
   ]
  },
  {
   "cell_type": "code",
   "execution_count": 19,
   "metadata": {},
   "outputs": [
    {
     "name": "stdout",
     "output_type": "stream",
     "text": [
      "(140440668, 10)\n"
     ]
    },
    {
     "data": {
      "text/html": [
       "<div>\n",
       "<style scoped>\n",
       "    .dataframe tbody tr th:only-of-type {\n",
       "        vertical-align: middle;\n",
       "    }\n",
       "\n",
       "    .dataframe tbody tr th {\n",
       "        vertical-align: top;\n",
       "    }\n",
       "\n",
       "    .dataframe thead th {\n",
       "        text-align: right;\n",
       "    }\n",
       "</style>\n",
       "<table border=\"1\" class=\"dataframe\">\n",
       "  <thead>\n",
       "    <tr style=\"text-align: right;\">\n",
       "      <th></th>\n",
       "      <th>id</th>\n",
       "      <th>chain</th>\n",
       "      <th>dept</th>\n",
       "      <th>category</th>\n",
       "      <th>company</th>\n",
       "      <th>brand</th>\n",
       "      <th>date</th>\n",
       "      <th>purchasequantity</th>\n",
       "      <th>purchaseamount</th>\n",
       "      <th>date_dt</th>\n",
       "    </tr>\n",
       "  </thead>\n",
       "  <tbody>\n",
       "    <tr>\n",
       "      <th>0</th>\n",
       "      <td>12262064</td>\n",
       "      <td>95</td>\n",
       "      <td>4</td>\n",
       "      <td>411</td>\n",
       "      <td>102070929</td>\n",
       "      <td>18785</td>\n",
       "      <td>20120302</td>\n",
       "      <td>2</td>\n",
       "      <td>2.50</td>\n",
       "      <td>2012-03-02</td>\n",
       "    </tr>\n",
       "    <tr>\n",
       "      <th>1</th>\n",
       "      <td>12262064</td>\n",
       "      <td>95</td>\n",
       "      <td>36</td>\n",
       "      <td>3630</td>\n",
       "      <td>107800070</td>\n",
       "      <td>5208</td>\n",
       "      <td>20120302</td>\n",
       "      <td>1</td>\n",
       "      <td>1.99</td>\n",
       "      <td>2012-03-02</td>\n",
       "    </tr>\n",
       "  </tbody>\n",
       "</table>\n",
       "</div>"
      ],
      "text/plain": [
       "         id  chain  dept  category    company  brand      date  \\\n",
       "0  12262064     95     4       411  102070929  18785  20120302   \n",
       "1  12262064     95    36      3630  107800070   5208  20120302   \n",
       "\n",
       "   purchasequantity  purchaseamount    date_dt  \n",
       "0                 2            2.50 2012-03-02  \n",
       "1                 1            1.99 2012-03-02  "
      ]
     },
     "execution_count": 19,
     "metadata": {},
     "output_type": "execute_result"
    }
   ],
   "source": [
    "train_transactions = df[df[\"date_dt\"] < train_threshold]\n",
    "print(train_transactions.shape)\n",
    "train_transactions.head(2)"
   ]
  },
  {
   "cell_type": "code",
   "execution_count": 20,
   "metadata": {},
   "outputs": [
    {
     "data": {
      "text/plain": [
       "{'paths': ['s3://capstone-transaction-data/preprocessed_data/train_target.parquet'],\n",
       " 'partitions_values': {}}"
      ]
     },
     "execution_count": 20,
     "metadata": {},
     "output_type": "execute_result"
    }
   ],
   "source": [
    "wr.s3.to_parquet(\n",
    "    df=train_transactions.drop(\"date_dt\", axis=1),\n",
    "    path=\"s3://capstone-transaction-data/preprocessed_data/train_transactions.parquet\"\n",
    ")\n",
    "\n",
    "wr.s3.to_parquet(\n",
    "    df=train_target,\n",
    "    path=\"s3://capstone-transaction-data/preprocessed_data/train_target.parquet\"\n",
    ")"
   ]
  },
  {
   "cell_type": "code",
   "execution_count": 21,
   "metadata": {},
   "outputs": [
    {
     "name": "stdout",
     "output_type": "stream",
     "text": [
      "20120302\n",
      "20121001\n"
     ]
    }
   ],
   "source": [
    "print(train_transactions.date.min())\n",
    "print(train_transactions.date.max())"
   ]
  }
 ],
 "metadata": {
  "instance_type": "ml.t3.medium",
  "kernelspec": {
   "display_name": "Python 3 (Data Science)",
   "language": "python",
   "name": "python3__SAGEMAKER_INTERNAL__arn:aws:sagemaker:us-east-2:429704687514:image/datascience-1.0"
  },
  "language_info": {
   "codemirror_mode": {
    "name": "ipython",
    "version": 3
   },
   "file_extension": ".py",
   "mimetype": "text/x-python",
   "name": "python",
   "nbconvert_exporter": "python",
   "pygments_lexer": "ipython3",
   "version": "3.7.10"
  }
 },
 "nbformat": 4,
 "nbformat_minor": 4
}
